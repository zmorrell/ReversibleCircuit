{
 "cells": [
  {
   "cell_type": "code",
   "execution_count": null,
   "metadata": {},
   "outputs": [],
   "source": [
    "import numpy as np\n",
    "import scipy as sp\n",
    "import pandas as pd\n",
    "import matplotlib.pyplot as plt\n",
    "import networkx as nx\n",
    "import random\n",
    "\n",
    "import time"
   ]
  },
  {
   "cell_type": "code",
   "execution_count": 80,
   "metadata": {},
   "outputs": [],
   "source": [
    "class Circuit:\n",
    "    def __init__(self,n):\n",
    "        self.n = n\n",
    "        self.wires = [Wire(k) for k in range(n)]\n",
    "        self.gates = []\n",
    "        \n",
    "    def addGate(self,g):\n",
    "        self.gates.append(g)\n",
    "        for bit in g.bits:\n",
    "            self.wires[bit].addGate(g)\n",
    "            \n",
    "    def appendCircuit(self,circuit, offset=0):\n",
    "        if offset == 0:\n",
    "            for gate in circuit.gates:\n",
    "                self.addGate(gate)\n",
    "        else:\n",
    "            pass\n",
    "    \n",
    "    def __str__(self):\n",
    "        string = \"\"\n",
    "        for gate in self.gates:\n",
    "            string = string + str(gate)\n",
    "            \n",
    "        return string\n",
    "        \n",
    "    def fullStoch(self,state=[]):\n",
    "        if state == []:\n",
    "            state = np.zeros(self.n)\n",
    "        state = state2dist(self.n,state)\n",
    "        for gate in self.gates:\n",
    "            state = gate.fullStoch(self.n) @ state\n",
    "        return state\n",
    "    \n",
    "    \n",
    "    def printWires(self):\n",
    "        for wire in self.wires:\n",
    "            print(wire)\n",
    "            \n",
    "    def fireShot(self,state=[]):\n",
    "        if state == []:\n",
    "            state = np.zeros(self.n)\n",
    "            \n",
    "        for gate in self.gates:\n",
    "            gate_state = [state[b] for b in gate.bits]\n",
    "            gate_state = gate.fireLocal(gate_state)\n",
    "            for i in range(len(gate_state)):\n",
    "                state[gate.bits[i]] = gate_state[i]\n",
    "        return state\n",
    "        \n",
    "    def expectationShots(self, numshots):\n",
    "        assert(numshots > 0), \"invalid number of shots, must be more than 0\"\n",
    "        runningtotal = self.fireShot()\n",
    "        for i in range(numshots-1):\n",
    "            runningtotal = runningtotal + self.fireShot()\n",
    "        \n",
    "        return [x / numshots for x in runningtotal]\n",
    "    \n",
    "    def shotsDist(self, numshots):\n",
    "        assert(numshots > 0), \"invalid number of shots, must be more than 0\"\n",
    "        histstates = {}\n",
    "        for i in range(numshots):\n",
    "            state = self.fireShot()\n",
    "            ind = 0\n",
    "            for k in range(len(state)):\n",
    "                ind += 2**k * state[k] \n",
    "            ind = int(ind)\n",
    "            if ind in histstates:\n",
    "                histstates[ind] += 1\n",
    "            else:\n",
    "                histstates[ind] = 1\n",
    "        for k in histstates:\n",
    "            histstates[k] /= numshots\n",
    "        return histstates\n",
    "    \n",
    "    def shotsDistHist(self, numshots):\n",
    "        assert(numshots > 0), \"invalid number of shots, must be more than 0\"\n",
    "        histstates = np.zeros(2**self.n)\n",
    "        xs = np.zeros(2**self.n)\n",
    "        \n",
    "        for i in range(numshots):\n",
    "            state = self.fireShot()\n",
    "            ind = 0\n",
    "            for k in range(len(state)):\n",
    "                 ind += 2**k * state[k] \n",
    "            histstates[ind] += 1\n",
    "            xs[ind] = ind\n",
    "        hist = plt.bar(xs,histstates)\n",
    "        return hist\n",
    "        \n",
    "class Wire:\n",
    "    def __init__(self,k):\n",
    "        self.k = k\n",
    "        self.gates = []\n",
    "    \n",
    "    def addGate(self,g):\n",
    "        self.gates.append(g)\n",
    "    \n",
    "    def removeLastGate(self):\n",
    "        return self.gates.pop()\n",
    "    \n",
    "    def __str__(self):\n",
    "        string = f\"[{self.k}]:\"\n",
    "        for gate in self.gates:\n",
    "            string += str(gate)\n",
    "        return string\n",
    "\n",
    "class Gate:\n",
    "    #assumes if bits = (0,1,2), order is kron(b2,b1,b0).  This follows from c01 gate having control\n",
    "    #on 0 and target on 1 by convention\n",
    "    gatecount = 0\n",
    "\n",
    "    def __init__(self,matrix,bits):\n",
    "        assert(matrix.shape == (2**len(bits),2**len(bits)))\n",
    "        self.matrix = matrix\n",
    "        self.bits = bits\n",
    "        self.id = Gate.gatecount\n",
    "        Gate.gatecount += 1\n",
    "        \n",
    "    def __str__(self):\n",
    "        str = \"\"\n",
    "        if len(self.bits) == 1:\n",
    "            str = f\"-a{self.id}\"\n",
    "        else:\n",
    "            str = f\"-b{self.id}\"\n",
    "        return str\n",
    "    \n",
    "    \n",
    "    def fireLocal(self,state):\n",
    "        #TODO: verify that this is resilient to weird ordered qubits\n",
    "        state_dist = state2dist(len(state),state)\n",
    "        new_dist = np.dot(self.matrix,state_dist);\n",
    "        new_state = sampledist(len(state),new_dist)\n",
    "        return new_state;\n",
    "    \n",
    "    def fullStoch(self,n):\n",
    "        #TODO: optimize for adjacent bit states (no swaps required)\n",
    "        #first construct hamiltonian operating on first len(bits) qubits, then swap bits to fit order\n",
    "        stoch = self.matrix\n",
    "        for i in range(n - len(self.bits)):\n",
    "            stoch = np.kron([[1,0],[0,1]],stoch)\n",
    "            \n",
    "        swaps = Gate._swapcircuit(self,n)\n",
    "        if len(swaps):\n",
    "            stoch = np.dot(stoch, np.transpose(swaps))\n",
    "            stoch = np.dot(swaps, stoch)\n",
    "            \n",
    "        return stoch\n",
    "    \n",
    "    def _swapcircuit(self,n):\n",
    "        swaplist = Gate._bubbleSortOperations(self.bits) \n",
    "        sortedbits = sorted(self.bits)\n",
    "        for i in range(len(sortedbits)-1,-1,-1):\n",
    "            if not (i == sortedbits[i]):\n",
    "                swaplist.append((i,sortedbits[i]))\n",
    "        return Gate._swapStoch(self,n,swaplist)\n",
    "    \n",
    "    \n",
    "    def _swapStoch(self,n,swaplist):\n",
    "        swapMatrix =  []\n",
    "        if not (len(swaplist) == 0):\n",
    "            swapMatrix = np.eye(2**n)\n",
    "            for swapbits in swaplist:\n",
    "                swapMatrix = np.dot(Gate._generateSwapMatrix(n,swapbits),swapMatrix)\n",
    "        return swapMatrix\n",
    "    \n",
    "    def _generateSwapMatrix(n,swapbits):\n",
    "        N = 2**n\n",
    "        swapMat = np.zeros((N,N))\n",
    "        for i in range(N):\n",
    "            mask1 = i >> swapbits[0] & 1\n",
    "            mask2 = i >> swapbits[1] & 1\n",
    "            xor = mask1 ^ mask2\n",
    "            xor = xor << swapbits[0] | xor << swapbits[1]\n",
    "            j = i ^ xor\n",
    "            swapMat[i,j] = 1\n",
    "        return swapMat\n",
    "    \n",
    "    def _bubbleSortOperations(bits):\n",
    "        issorted = False\n",
    "        swaplist = []\n",
    "        while not issorted:\n",
    "            issorted = True\n",
    "            for i in range(len(bits) - 1):\n",
    "                if bits[i] > bits[i+1]:\n",
    "                    temp = bits[i]\n",
    "                    bits[i] = bits[i+1]\n",
    "                    bits[i+1] = temp\n",
    "                    issorted = False\n",
    "                    swaplist.append((i,i+1))\n",
    "        return swaplist\n",
    "\n",
    "def state2dist(n,state):\n",
    "    ##reverse marginal calculation, assuming no correlation\n",
    "    #state in form: [probBit0, probBit1, ..., probBitn] == ones(n)\n",
    "    #simialr to a bit string\n",
    "    #dist in form [probState0,probState1, ..., probStaten]\n",
    "    #similar to quantum state\n",
    "    dist = np.zeros(2**n)\n",
    "    for i in range(2**n):\n",
    "        iprob = 1;\n",
    "        for k in range(n):\n",
    "            if (1 << k) & i:\n",
    "                iprob *= state[k]\n",
    "            else:\n",
    "                iprob *= 1.0 - state[k]\n",
    "        dist[i] = iprob\n",
    "    return dist\n",
    "            \n",
    "        \n",
    "def dist2state(n,dist):\n",
    "    ##Effectively a marginal calculation\n",
    "    #dist in form [probState0,probState1, ..., probStaten]\n",
    "    #similar to quantum state\n",
    "    #state in form: [probBit0, probBit1, ..., probBitn] == ones(n)\n",
    "    #similar to a bit string\n",
    "    outstate = np.zeros(n);\n",
    "    for i in range(2**n):\n",
    "        for k in range(n):\n",
    "            outstate[k] += (((1 << k) & i)>>k) * dist[i]\n",
    "            \n",
    "    return outstate\n",
    "            \n",
    "def sampledist(n,dist):\n",
    "    choices = [i for i in range(2**n)]\n",
    "    choice = np.random.choice(choices,p=dist)\n",
    "    state = np.zeros(n)\n",
    "    for i in range(n):\n",
    "        state[i] += (((1 << i) & choice) >> i)\n",
    "    return state\n",
    "\n",
    "def randomStochMatrix(n):\n",
    "    mat = np.random.rand(2**n,2**n)\n",
    "    mat = mat/mat.sum(axis = 0)\n",
    "    return mat\n",
    "\n",
    "def stateHistogram(n,dist):\n",
    "    assert (type(dist) == np.ndarray or type(dist) == dict), \"Invalid type for plotting.  Must be np.ndarray or dict\"\n",
    "    if type(dist) == dict:\n",
    "        xs = [k for k in dist]\n",
    "        xs.sort()\n",
    "        ys = [dist[k] for k in xs]\n",
    "        fig, ax = plt.subplots()\n",
    "        ax.bar(xs,ys)\n",
    "        plt.title(\"Sampled Distribution\")\n",
    "        plt.xlabel(\"state\")\n",
    "        plt.ylabel(\"prob\")\n",
    "        \n",
    "        xtickformat = '0' + str(n) + 'b'\n",
    "        xticks = [str(format(x, xtickformat)) for x in xs]\n",
    "        \n",
    "        ax.set_xticks(range(len(xticks)))\n",
    "        ax.set_xticklabels(xticks,rotation=\"vertical\")\n",
    "        return fig\n",
    "    else:\n",
    "        xs = dist.nonzero()\n",
    "        ys = np.array(dist[xs])\n",
    "        xs = xs[0]\n",
    "        print(xs)\n",
    "        print()\n",
    "        print(ys)\n",
    "        fig, ax = plt.subplots()\n",
    "        ax.bar(xs,ys)\n",
    "        plt.title(\"True Distribution\")\n",
    "        plt.xlabel(\"state\")\n",
    "        plt.ylabel(\"prob\")\n",
    "        \n",
    "        xtickformat = '0' + str(n) + 'b'\n",
    "        xticks = [str(format(x, xtickformat)) for x in xs]\n",
    "        \n",
    "        ax.set_xticks(range(len(xticks)))\n",
    "        ax.set_xticklabels(xticks,rotation=\"vertical\")\n",
    "        return fig\n",
    "\n",
    "def randomConnectedGraph(n):\n",
    "    #returns a random connected 3-regular graph\n",
    "    G = nx.generators.random_graphs.random_regular_graph(3,n)\n",
    "    while not nx.is_connected(G):\n",
    "        G = nx.generators.random_graphs.random_regular_graph(3,n);\n",
    "        \n",
    "    #relabelling to fix read/write issues (reads nodes in different order producing wrong\n",
    "    #adjacency matrix)\n",
    "    mapping = dict(zip(G,sorted(G)))\n",
    "    G = nx.relabel_nodes(G, mapping)\n",
    "    return G\n",
    "\n",
    "def readGraph(path):\n",
    "    file = open(path,'r')\n",
    "    G = nx.Graph()\n",
    "    for line in file:\n",
    "        if line[0] == '#':\n",
    "            continue\n",
    "        else:\n",
    "            line = line.strip('\\n')\n",
    "            labels = line.split(' ')\n",
    "            G.add_node(int(labels[0]))\n",
    "    file.seek(0)\n",
    "    for line in file:\n",
    "        if line[0] == '#':\n",
    "            continue\n",
    "        else:\n",
    "            line = line.strip('\\n')\n",
    "            labels = line.split(' ')\n",
    "            edges = [(int(labels[0]),int(labels[i])) for i in range(1,len(labels))]\n",
    "            G.add_edges_from(edges)\n",
    "    file.close()\n",
    "    return G\n",
    "\n",
    "def writeGraph(G,path):\n",
    "    nx.write_adjlist(G,path)\n",
    "    \n",
    "def graphMatrix(G):\n",
    "    return nx.adjacency_matrix(G)\n",
    "\n",
    "def graphCutInt(G,integer):\n",
    "    n = G.number_of_nodes()\n",
    "    vec = np.array([(integer & 1 << i) >> i for i in range(n)])\n",
    "    return graphCutBin(G,vec)\n",
    "\n",
    "def graphCutBin(G,vec):\n",
    "    vec = np.array(vec)\n",
    "    vec = 1 - 2*vec\n",
    "    return graphCutIsing(G,vec)\n",
    "\n",
    "def graphCutIsing(G,vec):\n",
    "    #use mat.size instead of np.sum(mat) for speed. since all weights are 1 in matrix.\n",
    "    vec = np.array([vec])\n",
    "    mat = graphMatrix(G)\n",
    "    return (mat.size - (vec @ mat @ vec.T)[0][0])/4\n",
    "\n",
    "def getAnsatzGate2bit(b1,b2,gamma):\n",
    "    P = np.array(\\\n",
    "        [[0,0,0,0 ],\\\n",
    "         [.5,1,0,.5],\\\n",
    "         [.5,0,1,.5],\\\n",
    "         [0,0,0,0]])\n",
    "    mat = sp.linalg.expm(-gamma * (np.identity(4) - P))\n",
    "    gate = Gate(mat,[b1,b2])\n",
    "    return gate\n",
    "    \n",
    "def getAnsatzGate1bit(b,theta):\n",
    "    mat = np.array([[np.cos(theta)**2, np.sin(theta)**2],[np.sin(theta)**2, np.cos(theta)**2]])\n",
    "    gate = Gate(mat,[b])\n",
    "    return gate\n",
    "\n",
    "def getEdgeColoring(G):\n",
    "    lineGraph = nx.generators.line.line_graph(G)\n",
    "    colors = nx.algorithms.greedy_color(lineGraph)\n",
    "    return colors\n",
    "\n",
    "def colors2dict(colors):\n",
    "    d = dict()\n",
    "    for edge in colors.keys():\n",
    "        if colors[edge] in d.keys():\n",
    "            d[colors[edge]].append(edge)\n",
    "        else:\n",
    "            d[colors[edge]] = [edge]\n",
    "    return d\n",
    "\n",
    "def getEmbeddedCircuit(G,theta,gamma):\n",
    "    colors = getEdgeColoring(G);\n",
    "    colordict = colors2dict(colors)\n",
    "    n = G.number_of_nodes()\n",
    "    circ = Circuit(n)\n",
    "    #TODO: Add capability of random shuffling of keys for random layer ordering\n",
    "    #add coinflip gates\n",
    "    for bit in range(n):\n",
    "        gate = getAnsatzGate1bit(bit,theta)\n",
    "        circ.addGate(gate)\n",
    "    \n",
    "    #add 2 pbit ansatz gates\n",
    "    for color in colordict.keys():\n",
    "        layerlist = colordict[color]\n",
    "        for edge in layerlist:\n",
    "            gate = getAnsatzGate2bit(*edge,gamma)\n",
    "            circ.addGate(gate)\n",
    "    \n",
    "    return circ\n",
    "\n",
    "def computeCircuitCuts(circ, G, numshots):\n",
    "    dist = circ.shotsDist(numshots);\n",
    "    distkeys = dist.keys()\n",
    "    expected_cut = 0;\n",
    "    for integer in distkeys:\n",
    "        expected_cut += dist[integer] * graphCutInt(G,integer)\n",
    "    return expected_cut\n",
    "\n",
    "\n",
    "def _optimization_function(x, *params):\n",
    "    G, numshots, depth = params\n",
    "    thetas = x[:depth]\n",
    "    gammas = x[depth:]\n",
    "    n = G.number_of_nodes()\n",
    "    circ = Circuit(n)\n",
    "    for i in range(depth):\n",
    "        circ = circ.appendCircuit(getEmbeddedCircuit(G,thetas[i],gammas[i]))\n",
    "    \n",
    "    return -computeCircuitCuts(circ,G,numshots) #scipy optimizers minimize, so give -(func) for max\n",
    "    \n",
    "def optimizeThetaGamma(G,numshots,depth,bounds,Ns):\n",
    "    f = _optimization_function\n",
    "    thetaLower = bounds[0][0]\n",
    "    thetaUpper = bounds[0][1]\n",
    "    gammaLower = bounds[1][0]\n",
    "    gammaUpper = bounds[1][1]\n",
    "    \n",
    "    thetaN = Ns[0]\n",
    "    gammaN = Ns[1]\n",
    "    \n",
    "    thetaStep = (thetaUpper - thetaLower)/(thetaN - 1)\n",
    "    gammaStep = (gammaUpper - gammaLower)/(gammaN - 1)\n",
    "    \n",
    "    thetas = np.linspace(thetaLower,thetaUpper, num = thetaN)\n",
    "    gammas = np.linspace(gammaLower,gammaUpper, num = gammaN)\n",
    "    \n",
    "    theta_ranges = [slice(thetaLower,thetaUpper,thetaStep) for i in range(depth)]\n",
    "    gamma_ranges = [slice(gammaLower,gammaUpper,gammaStep) for i in range(depth)]\n",
    "    \n",
    "    rranges = (*thetaRanges, *gamma_ranges)\n",
    "    params = (G, numshots, depth)\n",
    "    \n",
    "    return sp.optimize.brute(_optimization_function, rranges, args=params)\n",
    "\n",
    "def plotThetaGammaHeatmap(G,numshots,bounds,Ns):\n",
    "    #takes quite a bit of time to run.\n",
    "    #As a rule of thumb, it takes about half a seconds for 1000 shots on a 4 k4 graph.\n",
    "    #This will scale linearly with the vertices in the graph and linearly for the number of shots.\n",
    "    thetaLower = bounds[0][0]\n",
    "    thetaUpper = bounds[0][1]\n",
    "    gammaLower = bounds[1][0]\n",
    "    gammaUpper = bounds[1][1]\n",
    "    \n",
    "    thetaN = Ns[0]\n",
    "    gammaN = Ns[1]\n",
    "    \n",
    "    thetas = np.linspace(thetaLower,thetaUpper, num = thetaN)\n",
    "    gammas = np.linspace(gammaLower,gammaUpper, num = gammaN)\n",
    "    \n",
    "    thetaDelta = thetas[1] - thetas[0]\n",
    "    gammaDelta = gammas[1] - gammas[0]\n",
    "    \n",
    "    thetaOffset = thetaDelta/2\n",
    "    gammaOffset = gammaDelta/2\n",
    "    \n",
    "    cuts = np.array([[computeCircuitCuts(getEmbeddedCircuit(G,theta,gamma),G,numshots) \\\n",
    "                      for theta in thetas] for gamma in gammas])\n",
    "    \n",
    "    fig, ax = plt.subplots()\n",
    "    im = ax.imshow(cuts, extent=[thetas[0] - thetaOffset, thetas[-1] + thetaOffset, \\\n",
    "                               gammas[0] - gammaOffset, gammas[-1] + gammaOffset], \\\n",
    "                origin = 'lower')\n",
    "    ax.set_title(\"Expected Max Cut Heatmap, 1 Layer\")\n",
    "    ax.set_xlabel(\"theta\")\n",
    "    ax.set_ylabel(\"gamma\")\n",
    "    \n",
    "    fig.colorbar(im,ax=ax)\n",
    "    \n",
    "    return fig\n",
    "    \n",
    "    "
   ]
  },
  {
   "cell_type": "code",
   "execution_count": 27,
   "metadata": {},
   "outputs": [
    {
     "name": "stdout",
     "output_type": "stream",
     "text": [
      "Gates:\n",
      "-b0-a1-b2\n",
      "\n",
      "Wires:\n",
      "[0]:-b0-b2\n",
      "[1]:-b0-a1\n",
      "[2]:-b2\n",
      "[3]:\n",
      "[4]:\n",
      "\n",
      "Shot Distribution:\n",
      "[1, 5, 0, 4, 7, 3, 6, 2]\n",
      "[0, 1, 2, 3, 4, 5, 6, 7]\n",
      "00000  =>  0.1163\n",
      "00001  =>  0.2072\n",
      "00010  =>  0.0398\n",
      "00011  =>  0.0563\n",
      "00100  =>  0.2353\n",
      "00101  =>  0.2269\n",
      "00110  =>  0.0565\n",
      "00111  =>  0.0617\n",
      "\n",
      "True Distribution:\n",
      "00000  =>  0.11780230433011861\n",
      "00001  =>  0.21456489574708315\n",
      "00010  =>  0.03694091172003953\n",
      "00011  =>  0.05355394322992482\n",
      "00100  =>  0.2302664621078463\n",
      "00101  =>  0.2237473215899128\n",
      "00110  =>  0.057000538980290935\n",
      "00111  =>  0.06612362229478386\n",
      "[0 1 2 3 4 5 6 7]\n",
      "\n",
      "[0.1178023  0.2145649  0.03694091 0.05355394 0.23026646 0.22374732\n",
      " 0.05700054 0.06612362]\n",
      "\n",
      "Graph Examples\n",
      "Graph (original):\n",
      "[(0, 1), (0, 5), (0, 7), (1, 4), (1, 3), (2, 3), (2, 4), (2, 7), (3, 5), (4, 6), (5, 6), (6, 7)]\n",
      "Graph (from file):\n",
      "[(0, 1), (0, 5), (0, 7), (1, 4), (1, 3), (2, 3), (2, 4), (2, 7), (3, 5), (4, 6), (5, 6), (6, 7)]\n",
      "Cut Examples on Crossed Square Graph:\n",
      "[1, 1, 1, 1]\n",
      "cut:  0.0\n",
      "\n",
      "[0, 0, 0, 0]\n",
      "cut:  0.0\n",
      "\n",
      "[1, 1, 0, 0]\n",
      "cut:  4.0\n",
      "\n",
      "[1, -1, 1, -1]\n",
      "cut:  4.0\n",
      "\n",
      "[1, -1, -1, -1]\n",
      "cut:  3.0\n",
      "1 pbit ansatz matrix, theta = pi/2\n",
      "[[3.74939946e-33 1.00000000e+00]\n",
      " [1.00000000e+00 3.74939946e-33]]\n",
      "2 pbit ansatz matrix, gamma = 100\n",
      "[[3.72007598e-44 0.00000000e+00 0.00000000e+00 0.00000000e+00]\n",
      " [5.00000000e-01 1.00000000e+00 0.00000000e+00 5.00000000e-01]\n",
      " [5.00000000e-01 0.00000000e+00 1.00000000e+00 5.00000000e-01]\n",
      " [0.00000000e+00 0.00000000e+00 0.00000000e+00 3.72007598e-44]]\n",
      "K4 circuit embedding:\n",
      "[0]:-a5-b9-b12-b13\n",
      "[1]:-a6-b9-b11-b14\n",
      "[2]:-a7-b10-b11-b13\n",
      "[3]:-a8-b10-b12-b14\n",
      "\n",
      "\n",
      "Appending another circuit\n",
      "[0]:-a5-b9-b12-b13-a15-b19-b22-b23\n",
      "[1]:-a6-b9-b11-b14-a16-b19-b21-b24\n",
      "[2]:-a7-b10-b11-b13-a17-b20-b21-b23\n",
      "[3]:-a8-b10-b12-b14-a18-b20-b22-b24\n",
      "expected cut:  3.669\n"
     ]
    },
    {
     "data": {
      "image/png": "[encoded data removed]",
      "text/plain": [
       "<Figure size 432x288 with 1 Axes>"
      ]
     },
     "metadata": {
      "needs_background": "light"
     },
     "output_type": "display_data"
    },
    {
     "data": {
      "image/png": "[encoded data removed]",
      "text/plain": [
       "<Figure size 432x288 with 1 Axes>"
      ]
     },
     "metadata": {
      "needs_background": "light"
     },
     "output_type": "display_data"
    }
   ],
   "source": [
    "#convergence checking for V&V\n",
    "n = 5\n",
    "circ = Circuit(n)\n",
    "m1 = randomStochMatrix(2)\n",
    "g1 = Gate(m1,[0,1])\n",
    "\n",
    "m2 = randomStochMatrix(1)\n",
    "g2 = Gate(m2,[1])\n",
    "\n",
    "m3 = randomStochMatrix(2)\n",
    "g3 = Gate(m3,[0,2])\n",
    "\n",
    "circ.addGate(g1)\n",
    "circ.addGate(g2)\n",
    "circ.addGate(g3)\n",
    "\n",
    "print(\"Gates:\")\n",
    "print(circ)\n",
    "print()\n",
    "\n",
    "print(\"Wires:\")\n",
    "circ.printWires()\n",
    "\n",
    "print()\n",
    "\n",
    "print(\"Shot Distribution:\")\n",
    "dist = circ.shotsDist(10000)\n",
    "\n",
    "distkeys = [k for k in dist]\n",
    "print(distkeys)\n",
    "distkeys.sort()\n",
    "print(distkeys)\n",
    "for k in distkeys:\n",
    "    binformat = '0' + str(circ.n) + 'b'\n",
    "    print(format(k, binformat) , \" => \", dist[k])\n",
    "\n",
    "print()\n",
    "print(\"True Distribution:\")\n",
    "state = circ.fullStoch()\n",
    "for k in distkeys:\n",
    "    binformat = '0' + str(circ.n) + 'b'\n",
    "    print(format(k,binformat), \" => \", state[k])\n",
    "\n",
    "stateHistogram(n,dist)\n",
    "stateHistogram(n,state)\n",
    "\n",
    "## Graph Example\n",
    "random.seed(123)\n",
    "np.random.seed(456)\n",
    "print()\n",
    "print(\"Graph Examples\")\n",
    "G_8 = randomConnectedGraph(8)\n",
    "print(\"Graph (original):\")\n",
    "print(G_8.edges)\n",
    "\n",
    "writeGraph(G_8,\"graph_example.adjlist\")\n",
    "G_8_read = readGraph(\"graph_example.adjlist\")\n",
    "\n",
    "print(\"Graph (from file):\")\n",
    "print(G_8_read.edges)\n",
    "\n",
    "G4 = randomConnectedGraph(4)\n",
    "print(\"Cut Examples on Crossed Square Graph:\")\n",
    "\n",
    "vec = [1,1,1,1]\n",
    "print(vec)\n",
    "print(\"cut: \", graphCutBin(G4,vec))\n",
    "print()\n",
    "\n",
    "vec = [0,0,0,0]\n",
    "print(vec)\n",
    "print(\"cut: \", graphCutBin(G4,vec))\n",
    "print()\n",
    "\n",
    "vec = [1,1,0,0]\n",
    "print(vec)\n",
    "print(\"cut: \", graphCutBin(G4,vec))\n",
    "print()\n",
    "\n",
    "vec = [1,-1,1,-1]\n",
    "print(vec)\n",
    "print(\"cut: \", graphCutIsing(G4,vec))\n",
    "print()\n",
    "\n",
    "vec = [1,-1,-1,-1]\n",
    "print(vec)\n",
    "print(\"cut: \", graphCutIsing(G4,vec))\n",
    "\n",
    "##Demonstrating ansatz circuits:\n",
    "g_1pbit = getAnsatzGate1bit(0, np.pi/2)\n",
    "g_2pbit = getAnsatzGate2bit(0,1,gamma = 100)\n",
    "\n",
    "print(\"1 pbit ansatz matrix, theta = pi/2\")\n",
    "print(g_1pbit.matrix)\n",
    "print(\"2 pbit ansatz matrix, gamma = 100\")\n",
    "print(g_2pbit.matrix)\n",
    "\n",
    "#Demonstrating graph embedding for K4 graph\n",
    "print(\"K4 circuit embedding:\")\n",
    "k4 = randomConnectedGraph(4)\n",
    "circ = getEmbeddedCircuit(k4,theta=np.pi/2, gamma=100)\n",
    "circ.printWires()\n",
    "\n",
    "#Demonstrating circuit appending\n",
    "circ2 = getEmbeddedCircuit(k4,theta=0,gamma=10)\n",
    "circ.appendCircuit(circ2)\n",
    "\n",
    "print()\n",
    "print()\n",
    "print(\"Appending another circuit\")\n",
    "circ.printWires()\n",
    "\n",
    "circ = getEmbeddedCircuit(k4,theta=np.pi/2, gamma=1)\n",
    "expected_cut = computeCircuitCuts(circ,k4,1000)\n",
    "print(\"expected cut: \", expected_cut)"
   ]
  },
  {
   "cell_type": "code",
   "execution_count": 54,
   "metadata": {},
   "outputs": [
    {
     "name": "stdout",
     "output_type": "stream",
     "text": [
      "Time to run 6 vertices and 5x5 grid:  15.016410897951573  seconds\n"
     ]
    },
    {
     "data": {
      "image/png": "[encoded data removed]",
      "text/plain": [
       "<Figure size 432x288 with 2 Axes>"
      ]
     },
     "metadata": {
      "needs_background": "light"
     },
     "output_type": "display_data"
    }
   ],
   "source": [
    "#plotThetaGammaHeatmap(k4)\n",
    "plotgraph = randomConnectedGraph(6)\n",
    "bounds = [(0,2*np.pi), (0,5)]\n",
    "Ns = [5, 5];\n",
    "tic = time.perf_counter()\n",
    "fig = plotThetaGammaHeatmap(plotgraph,1000,bounds,Ns)\n",
    "toc = time.perf_counter()\n",
    "\n",
    "print(\"Time to run 6 vertices and 5x5 grid: \", toc - tic, \" seconds\")\n",
    "\n",
    "fig.savefig('figures/testfig.png')"
   ]
  },
  {
   "cell_type": "code",
   "execution_count": 86,
   "metadata": {},
   "outputs": [
    {
     "name": "stdout",
     "output_type": "stream",
     "text": [
      "time to generate all 6 vertex plots:  2894.0356840550085  seconds\n",
      "time to generate all 8 vertex plots:  2873.9413477950147  seconds\n"
     ]
    },
    {
     "data": {
      "image/png": "[encoded data removed]",
      "text/plain": [
       "<Figure size 432x288 with 2 Axes>"
      ]
     },
     "metadata": {
      "needs_background": "light"
     },
     "output_type": "display_data"
    },
    {
     "data": {
      "image/png": "[encoded data removed]",
      "text/plain": [
       "<Figure size 432x288 with 2 Axes>"
      ]
     },
     "metadata": {
      "needs_background": "light"
     },
     "output_type": "display_data"
    },
    {
     "data": {
      "image/png": "[encoded data removed]",
      "text/plain": [
       "<Figure size 432x288 with 2 Axes>"
      ]
     },
     "metadata": {
      "needs_background": "light"
     },
     "output_type": "display_data"
    },
    {
     "data": {
      "image/png": "[encoded data removed]",
      "text/plain": [
       "<Figure size 432x288 with 2 Axes>"
      ]
     },
     "metadata": {
      "needs_background": "light"
     },
     "output_type": "display_data"
    },
    {
     "data": {
      "image/png": "[encoded data removed]",
      "text/plain": [
       "<Figure size 432x288 with 2 Axes>"
      ]
     },
     "metadata": {
      "needs_background": "light"
     },
     "output_type": "display_data"
    },
    {
     "data": {
      "image/png": "[encoded data removed]",
      "text/plain": [
       "<Figure size 432x288 with 2 Axes>"
      ]
     },
     "metadata": {
      "needs_background": "light"
     },
     "output_type": "display_data"
    }
   ],
   "source": [
    "G6 = dict()\n",
    "G8 = dict()\n",
    "bounds = [(0,2*np.pi), (1,2*np.pi+1)]#using 2pi for gamma since it saturates above ~5, and it makes a □ grid\n",
    "Ns = [50,50]\n",
    "numshots = 1000\n",
    "\n",
    "##|V| == 6\n",
    "tic = time.perf_counter()\n",
    "for i in range(3):\n",
    "    G6[i] = randomConnectedGraph(6)\n",
    "    fig = plotThetaGammaHeatmap(G,numshots,bounds,Ns)\n",
    "    filename = 'figures/G6MaxCut' + str(i) + '.png'\n",
    "    fig.savefig(filename)\n",
    "    writeGraph(G6[i],'graphs/G6PlotGraph'+str(i)+'adjlist')\n",
    "toc = time.perf_counter()\n",
    "\n",
    "print(\"time to generate all 6 vertex plots: \", toc - tic, \" seconds\")\n",
    "    \n",
    "    \n",
    "##|V| == 8\n",
    "tic = time.perf_counter()\n",
    "for i in range(3):\n",
    "    G8[i] = randomConnectedGraph(8)\n",
    "    fig = plotThetaGammaHeatmap(G,numshots,bounds,Ns)\n",
    "    filename = 'figures/G8MaxCut' + str(i) + '.adjlist'\n",
    "    fig.savefig(filename)\n",
    "    writeGraph(G8[i],'graphs/G8PlotGraph'+str(i)+'.adjlist')\n",
    "toc = time.perf_counter()\n",
    "\n",
    "print(\"time to generate all 8 vertex plots: \", toc - tic, \" seconds\")\n",
    "    \n"
   ]
  },
  {
   "cell_type": "code",
   "execution_count": 18,
   "metadata": {},
   "outputs": [
    {
     "name": "stdout",
     "output_type": "stream",
     "text": [
      "[[ 0  5 10 15 20]\n",
      " [ 0  4  8 12 16]\n",
      " [ 0  3  6  9 12]\n",
      " [ 0  2  4  6  8]\n",
      " [ 0  1  2  3  4]]\n"
     ]
    },
    {
     "data": {
      "image/png": "[encoded data removed]",
      "text/plain": [
       "<Figure size 432x288 with 1 Axes>"
      ]
     },
     "metadata": {
      "needs_background": "light"
     },
     "output_type": "display_data"
    }
   ],
   "source": [
    "xs = [x for x in range(5)]\n",
    "ys = [y+1 for y in range(4,-1,-1)]\n",
    "zs = np.array([[x*(y) for x in xs] for y in ys])\n",
    "print(zs)\n",
    "fig = plt.imshow(zs, extent = [xs[0]-.5, xs[-1]+.5, ys[-1]-.5, ys[0]+.5])"
   ]
  },
  {
   "cell_type": "code",
   "execution_count": 84,
   "metadata": {},
   "outputs": [
    {
     "name": "stdout",
     "output_type": "stream",
     "text": [
      "theta:  1\n",
      "gamma:  2\n",
      "G:  \n",
      "numshots:  1000\n",
      "3.8400000000000007\n"
     ]
    }
   ],
   "source": [
    "G = randomConnectedGraph(4)\n",
    "numshots = 1000\n",
    "x = [1,2]\n",
    "params = (G, numshots)\n",
    "cut = _optimization_function(x,G,numshots)\n",
    "print(cut)"
   ]
  },
  {
   "cell_type": "code",
   "execution_count": null,
   "metadata": {},
   "outputs": [],
   "source": [
    "##|V| == 8\n",
    "tic = time.perf_counter()\n",
    "for i in range(3):\n",
    "    G8[i] = randomConnectedGraph(8)\n",
    "    fig = plotThetaGammaHeatmap(G,numshots,bounds,Ns)\n",
    "    filename = 'figures/G8MaxCut' + str(i) + '.png'\n",
    "    fig.savefig(filename)\n",
    "    writeGraph(G8[i],'graphs/G8PlotGraph'+str(i)+'.adjlist')\n",
    "toc = time.perf_counter()\n",
    "\n",
    "print(\"time to generate all 8 vertex plots: \", toc - tic, \" seconds\")\n",
    "    \n"
   ]
  },
  {
   "cell_type": "code",
   "execution_count": 158,
   "metadata": {},
   "outputs": [
    {
     "data": {
      "text/plain": [
       "1e-45"
      ]
     },
     "execution_count": 158,
     "metadata": {},
     "output_type": "execute_result"
    }
   ],
   "source": [
    "np.spacing(np.float32(0))"
   ]
  },
  {
   "cell_type": "code",
   "execution_count": null,
   "metadata": {},
   "outputs": [],
   "source": [
    "print(str(circ))\n",
    "circ.printWires()"
   ]
  },
  {
   "cell_type": "code",
   "execution_count": null,
   "metadata": {},
   "outputs": [],
   "source": [
    "stoch = circ.fullStoch()\n",
    "for i in range(8):\n",
    "    x = np.zeros((8,1))\n",
    "    x[i] = 1\n",
    "    a,b = np.where(np.dot(stoch,x) == 1)\n",
    "    print(i , \" => \" , a[0])\n",
    "    \n",
    "print(stoch)\n",
    "    "
   ]
  },
  {
   "cell_type": "code",
   "execution_count": null,
   "metadata": {},
   "outputs": [],
   "source": [
    "np.transpose([1j])"
   ]
  },
  {
   "cell_type": "code",
   "execution_count": null,
   "metadata": {},
   "outputs": [],
   "source": [
    "a = np.array([1,2])\n",
    "b = np.array([2,4])\n",
    "a + b"
   ]
  },
  {
   "cell_type": "code",
   "execution_count": null,
   "metadata": {},
   "outputs": [],
   "source": [
    "#circ.expectationShots(100000)"
   ]
  },
  {
   "cell_type": "code",
   "execution_count": null,
   "metadata": {},
   "outputs": [],
   "source": [
    "x = np.array([[0,1],[1,0]])\n",
    "np.dot(x,x)"
   ]
  },
  {
   "cell_type": "code",
   "execution_count": null,
   "metadata": {},
   "outputs": [],
   "source": [
    "def test_swap_alg(targs,n):\n",
    "    targs = np.array(targs)\n",
    "    tmpls = [i for i in range(n)]\n",
    "    end = np.setdiff1d(tmpls,targs)\n",
    "    ls = np.concatenate((targs,end))\n",
    "    return ls"
   ]
  },
  {
   "cell_type": "code",
   "execution_count": null,
   "metadata": {},
   "outputs": [],
   "source": [
    "print(test_swap_alg([3,1], 5))"
   ]
  },
  {
   "cell_type": "code",
   "execution_count": null,
   "metadata": {},
   "outputs": [],
   "source": [
    "targs = [1, 3,4]\n",
    "ls = [i for i in range(10)]\n",
    "\n",
    "ls[targs in ls]"
   ]
  },
  {
   "cell_type": "code",
   "execution_count": null,
   "metadata": {},
   "outputs": [],
   "source": [
    "hist = circ.shotsHistogram(1000)"
   ]
  },
  {
   "cell_type": "code",
   "execution_count": null,
   "metadata": {},
   "outputs": [],
   "source": [
    "np.zeros((2,2))"
   ]
  },
  {
   "cell_type": "code",
   "execution_count": 9,
   "metadata": {},
   "outputs": [
    {
     "data": {
      "text/plain": [
       "array([[0, 1],\n",
       "       [1, 0]])"
      ]
     },
     "execution_count": 9,
     "metadata": {},
     "output_type": "execute_result"
    }
   ],
   "source": [
    "x = np.array([[0, 1],[1,0]])\n",
    "I = np.array([[1, 0],[0,1]])\n",
    "np.dot(x,I)"
   ]
  },
  {
   "cell_type": "code",
   "execution_count": 10,
   "metadata": {},
   "outputs": [
    {
     "name": "stdout",
     "output_type": "stream",
     "text": [
      "True\n"
     ]
    },
    {
     "name": "stderr",
     "output_type": "stream",
     "text": [
      "/home/zmorrell/anaconda3/lib/python3.7/site-packages/networkx/drawing/nx_pylab.py:579: MatplotlibDeprecationWarning: \n",
      "The iterable function was deprecated in Matplotlib 3.1 and will be removed in 3.3. Use np.iterable instead.\n",
      "  if not cb.iterable(width):\n"
     ]
    },
    {
     "data": {
      "image/png": "[encoded data removed]",
      "text/plain": [
       "<Figure size 432x288 with 1 Axes>"
      ]
     },
     "metadata": {},
     "output_type": "display_data"
    }
   ],
   "source": [
    "G = nx.generators.random_graphs.random_regular_graph(3,6)\n",
    "print(nx.is_connected(G))\n",
    "nx.draw(G)"
   ]
  },
  {
   "cell_type": "code",
   "execution_count": 11,
   "metadata": {},
   "outputs": [
    {
     "name": "stdout",
     "output_type": "stream",
     "text": [
      "[0, 1, 3, 4, 5, 2]\n",
      "[(0, 1), (0, 5), (0, 3), (1, 3), (1, 4), (3, 2), (4, 5), (4, 2), (5, 2)]\n"
     ]
    },
    {
     "ename": "NameError",
     "evalue": "name 'G_2' is not defined",
     "output_type": "error",
     "traceback": [
      "\u001b[0;31m---------------------------------------------------------------------------\u001b[0m",
      "\u001b[0;31mNameError\u001b[0m                                 Traceback (most recent call last)",
      "\u001b[0;32m<ipython-input-11-1dafec62badc>\u001b[0m in \u001b[0;36m<module>\u001b[0;34m\u001b[0m\n\u001b[1;32m      1\u001b[0m \u001b[0mprint\u001b[0m\u001b[0;34m(\u001b[0m\u001b[0mG\u001b[0m\u001b[0;34m.\u001b[0m\u001b[0mnodes\u001b[0m\u001b[0;34m)\u001b[0m\u001b[0;34m\u001b[0m\u001b[0;34m\u001b[0m\u001b[0m\n\u001b[1;32m      2\u001b[0m \u001b[0mprint\u001b[0m\u001b[0;34m(\u001b[0m\u001b[0mG\u001b[0m\u001b[0;34m.\u001b[0m\u001b[0medges\u001b[0m\u001b[0;34m)\u001b[0m\u001b[0;34m\u001b[0m\u001b[0;34m\u001b[0m\u001b[0m\n\u001b[0;32m----> 3\u001b[0;31m \u001b[0mprint\u001b[0m\u001b[0;34m(\u001b[0m\u001b[0mG_2\u001b[0m\u001b[0;34m.\u001b[0m\u001b[0mnodes\u001b[0m\u001b[0;34m)\u001b[0m\u001b[0;34m\u001b[0m\u001b[0;34m\u001b[0m\u001b[0m\n\u001b[0m\u001b[1;32m      4\u001b[0m \u001b[0mG_2\u001b[0m\u001b[0;34m=\u001b[0m\u001b[0mreadGraph\u001b[0m\u001b[0;34m(\u001b[0m\u001b[0;34m\"graph_example.adjlist\"\u001b[0m\u001b[0;34m)\u001b[0m\u001b[0;34m\u001b[0m\u001b[0;34m\u001b[0m\u001b[0m\n\u001b[1;32m      5\u001b[0m \u001b[0mprint\u001b[0m\u001b[0;34m(\u001b[0m\u001b[0mG_2\u001b[0m\u001b[0;34m.\u001b[0m\u001b[0medges\u001b[0m\u001b[0;34m)\u001b[0m\u001b[0;34m\u001b[0m\u001b[0;34m\u001b[0m\u001b[0m\n",
      "\u001b[0;31mNameError\u001b[0m: name 'G_2' is not defined"
     ]
    }
   ],
   "source": [
    "\n",
    "print(G.nodes)\n",
    "print(G.edges)\n",
    "print(G_2.nodes)\n",
    "G_2=readGraph(\"graph_example.adjlist\")\n",
    "print(G_2.edges)\n",
    "sorted(G_2)\n",
    "\n",
    "(nx.adj_matrix(G_2) - nx.adj_matrix(G)).todense()"
   ]
  },
  {
   "cell_type": "code",
   "execution_count": null,
   "metadata": {},
   "outputs": [],
   "source": []
  },
  {
   "cell_type": "code",
   "execution_count": 12,
   "metadata": {},
   "outputs": [
    {
     "ename": "NameError",
     "evalue": "name 'G_2' is not defined",
     "output_type": "error",
     "traceback": [
      "\u001b[0;31m---------------------------------------------------------------------------\u001b[0m",
      "\u001b[0;31mNameError\u001b[0m                                 Traceback (most recent call last)",
      "\u001b[0;32m<ipython-input-12-b85fe28e3e6b>\u001b[0m in \u001b[0;36m<module>\u001b[0;34m\u001b[0m\n\u001b[0;32m----> 1\u001b[0;31m \u001b[0msorted\u001b[0m\u001b[0;34m(\u001b[0m\u001b[0mG_2\u001b[0m\u001b[0;34m)\u001b[0m\u001b[0;34m\u001b[0m\u001b[0;34m\u001b[0m\u001b[0m\n\u001b[0m",
      "\u001b[0;31mNameError\u001b[0m: name 'G_2' is not defined"
     ]
    }
   ],
   "source": [
    "sorted(G_2)"
   ]
  },
  {
   "cell_type": "code",
   "execution_count": 13,
   "metadata": {},
   "outputs": [],
   "source": [
    "def myParsedGraph(path):\n",
    "    file = open(path,'r')\n",
    "    G = nx.Graph()\n",
    "    for line in file:\n",
    "        if line[0] == '#':\n",
    "            continue\n",
    "        else:\n",
    "            line = line.strip('\\n')\n",
    "            labels = line.split(' ')\n",
    "            G.add_node(int(labels[0]))\n",
    "    file.seek(0)\n",
    "    for line in file:\n",
    "        if line[0] == '#':\n",
    "            continue\n",
    "        else:\n",
    "            line = line.strip('\\n')\n",
    "            labels = line.split(' ')\n",
    "            edges = [(int(labels[0]),int(labels[i])) for i in range(1,len(labels))]\n",
    "            G.add_edges_from(edges)\n",
    "    return G"
   ]
  },
  {
   "cell_type": "code",
   "execution_count": 14,
   "metadata": {},
   "outputs": [],
   "source": [
    "G_mine = myParsedGraph(\"graph_example.adjlist\")"
   ]
  },
  {
   "cell_type": "code",
   "execution_count": 15,
   "metadata": {},
   "outputs": [
    {
     "data": {
      "text/plain": [
       "EdgeView([(0, 1), (0, 5), (0, 7), (1, 4), (1, 3), (2, 3), (2, 4), (2, 7), (3, 5), (4, 6), (5, 6), (6, 7)])"
      ]
     },
     "execution_count": 15,
     "metadata": {},
     "output_type": "execute_result"
    }
   ],
   "source": [
    "G_mine.edges()"
   ]
  },
  {
   "cell_type": "code",
   "execution_count": 16,
   "metadata": {},
   "outputs": [
    {
     "name": "stdout",
     "output_type": "stream",
     "text": [
      "[[1 0]]\n",
      "[[1]\n",
      " [0]]\n",
      "[[1 1]\n",
      " [0 1]]\n",
      "[[1]\n",
      " [0]]\n",
      "[[1]]\n"
     ]
    }
   ],
   "source": [
    "vec = np.array([[1, 0]])\n",
    "mat = np.array([[1,1],[0,1]])\n",
    "\n",
    "print(vec)\n",
    "print((np.transpose(vec)))\n",
    "print(mat)\n",
    "print(np.matmul(mat,vec.T))\n",
    "print(np.matmul(vec,np.matmul(mat,vec.T)))"
   ]
  },
  {
   "cell_type": "code",
   "execution_count": 17,
   "metadata": {},
   "outputs": [
    {
     "name": "stdout",
     "output_type": "stream",
     "text": [
      "  (0, 1)\t1\n",
      "  (0, 2)\t1\n",
      "  (0, 4)\t1\n",
      "  (1, 0)\t1\n",
      "  (1, 2)\t1\n",
      "  (1, 3)\t1\n",
      "  (2, 0)\t1\n",
      "  (2, 1)\t1\n",
      "  (2, 5)\t1\n",
      "  (3, 1)\t1\n",
      "  (3, 4)\t1\n",
      "  (3, 5)\t1\n",
      "  (4, 0)\t1\n",
      "  (4, 3)\t1\n",
      "  (4, 5)\t1\n",
      "  (5, 2)\t1\n",
      "  (5, 3)\t1\n",
      "  (5, 4)\t1\n"
     ]
    },
    {
     "data": {
      "text/plain": [
       "18"
      ]
     },
     "execution_count": 17,
     "metadata": {},
     "output_type": "execute_result"
    }
   ],
   "source": [
    "print(graphMatrix(G))\n",
    "np.sum(graphMatrix(G))"
   ]
  },
  {
   "cell_type": "code",
   "execution_count": 18,
   "metadata": {},
   "outputs": [
    {
     "ename": "ValueError",
     "evalue": "dimension mismatch",
     "output_type": "error",
     "traceback": [
      "\u001b[0;31m---------------------------------------------------------------------------\u001b[0m",
      "\u001b[0;31mValueError\u001b[0m                                Traceback (most recent call last)",
      "\u001b[0;32m<ipython-input-18-a5c8cff1e467>\u001b[0m in \u001b[0;36m<module>\u001b[0;34m\u001b[0m\n\u001b[0;32m----> 1\u001b[0;31m \u001b[0mgraphCutBin\u001b[0m\u001b[0;34m(\u001b[0m\u001b[0mG\u001b[0m\u001b[0;34m,\u001b[0m\u001b[0;34m[\u001b[0m\u001b[0;36m1\u001b[0m\u001b[0;34m,\u001b[0m \u001b[0;36m0\u001b[0m\u001b[0;34m,\u001b[0m \u001b[0;36m1\u001b[0m\u001b[0;34m,\u001b[0m \u001b[0;36m0\u001b[0m\u001b[0;34m,\u001b[0m\u001b[0;36m1\u001b[0m\u001b[0;34m,\u001b[0m\u001b[0;36m0\u001b[0m\u001b[0;34m,\u001b[0m\u001b[0;36m1\u001b[0m\u001b[0;34m,\u001b[0m\u001b[0;36m0\u001b[0m\u001b[0;34m]\u001b[0m\u001b[0;34m)\u001b[0m\u001b[0;34m\u001b[0m\u001b[0;34m\u001b[0m\u001b[0m\n\u001b[0m",
      "\u001b[0;32m<ipython-input-2-863fedc7baca>\u001b[0m in \u001b[0;36mgraphCutBin\u001b[0;34m(G, vec)\u001b[0m\n\u001b[1;32m    303\u001b[0m     \u001b[0mvec\u001b[0m \u001b[0;34m=\u001b[0m \u001b[0mnp\u001b[0m\u001b[0;34m.\u001b[0m\u001b[0marray\u001b[0m\u001b[0;34m(\u001b[0m\u001b[0mvec\u001b[0m\u001b[0;34m)\u001b[0m\u001b[0;34m\u001b[0m\u001b[0;34m\u001b[0m\u001b[0m\n\u001b[1;32m    304\u001b[0m     \u001b[0mvec\u001b[0m \u001b[0;34m=\u001b[0m \u001b[0;36m1\u001b[0m \u001b[0;34m-\u001b[0m \u001b[0;36m2\u001b[0m\u001b[0;34m*\u001b[0m\u001b[0mvec\u001b[0m\u001b[0;34m\u001b[0m\u001b[0;34m\u001b[0m\u001b[0m\n\u001b[0;32m--> 305\u001b[0;31m     \u001b[0;32mreturn\u001b[0m \u001b[0mgraphCutIsing\u001b[0m\u001b[0;34m(\u001b[0m\u001b[0mG\u001b[0m\u001b[0;34m,\u001b[0m\u001b[0mvec\u001b[0m\u001b[0;34m)\u001b[0m\u001b[0;34m;\u001b[0m\u001b[0;34m\u001b[0m\u001b[0;34m\u001b[0m\u001b[0m\n\u001b[0m\u001b[1;32m    306\u001b[0m \u001b[0;34m\u001b[0m\u001b[0m\n\u001b[1;32m    307\u001b[0m \u001b[0;32mdef\u001b[0m \u001b[0mgraphCutIsing\u001b[0m\u001b[0;34m(\u001b[0m\u001b[0mG\u001b[0m\u001b[0;34m,\u001b[0m\u001b[0mvec\u001b[0m\u001b[0;34m)\u001b[0m\u001b[0;34m:\u001b[0m\u001b[0;34m\u001b[0m\u001b[0;34m\u001b[0m\u001b[0m\n",
      "\u001b[0;32m<ipython-input-2-863fedc7baca>\u001b[0m in \u001b[0;36mgraphCutIsing\u001b[0;34m(G, vec)\u001b[0m\n\u001b[1;32m    309\u001b[0m     \u001b[0mvec\u001b[0m \u001b[0;34m=\u001b[0m \u001b[0mnp\u001b[0m\u001b[0;34m.\u001b[0m\u001b[0marray\u001b[0m\u001b[0;34m(\u001b[0m\u001b[0;34m[\u001b[0m\u001b[0mvec\u001b[0m\u001b[0;34m]\u001b[0m\u001b[0;34m)\u001b[0m\u001b[0;34m\u001b[0m\u001b[0;34m\u001b[0m\u001b[0m\n\u001b[1;32m    310\u001b[0m     \u001b[0mmat\u001b[0m \u001b[0;34m=\u001b[0m \u001b[0mgraphMatrix\u001b[0m\u001b[0;34m(\u001b[0m\u001b[0mG\u001b[0m\u001b[0;34m)\u001b[0m\u001b[0;34m\u001b[0m\u001b[0;34m\u001b[0m\u001b[0m\n\u001b[0;32m--> 311\u001b[0;31m     \u001b[0;32mreturn\u001b[0m \u001b[0;34m(\u001b[0m\u001b[0mmat\u001b[0m\u001b[0;34m.\u001b[0m\u001b[0msize\u001b[0m \u001b[0;34m-\u001b[0m \u001b[0;34m(\u001b[0m\u001b[0mvec\u001b[0m \u001b[0;34m@\u001b[0m \u001b[0mmat\u001b[0m \u001b[0;34m@\u001b[0m \u001b[0mvec\u001b[0m\u001b[0;34m.\u001b[0m\u001b[0mT\u001b[0m\u001b[0;34m)\u001b[0m\u001b[0;34m[\u001b[0m\u001b[0;36m0\u001b[0m\u001b[0;34m]\u001b[0m\u001b[0;34m[\u001b[0m\u001b[0;36m0\u001b[0m\u001b[0;34m]\u001b[0m\u001b[0;34m)\u001b[0m\u001b[0;34m/\u001b[0m\u001b[0;36m4\u001b[0m\u001b[0;34m\u001b[0m\u001b[0;34m\u001b[0m\u001b[0m\n\u001b[0m\u001b[1;32m    312\u001b[0m \u001b[0;34m\u001b[0m\u001b[0m\n",
      "\u001b[0;32m~/anaconda3/lib/python3.7/site-packages/scipy/sparse/base.py\u001b[0m in \u001b[0;36m__rmatmul__\u001b[0;34m(self, other)\u001b[0m\n\u001b[1;32m    565\u001b[0m             raise ValueError(\"Scalar operands are not allowed, \"\n\u001b[1;32m    566\u001b[0m                              \"use '*' instead\")\n\u001b[0;32m--> 567\u001b[0;31m         \u001b[0;32mreturn\u001b[0m \u001b[0mself\u001b[0m\u001b[0;34m.\u001b[0m\u001b[0m__rmul__\u001b[0m\u001b[0;34m(\u001b[0m\u001b[0mother\u001b[0m\u001b[0;34m)\u001b[0m\u001b[0;34m\u001b[0m\u001b[0;34m\u001b[0m\u001b[0m\n\u001b[0m\u001b[1;32m    568\u001b[0m \u001b[0;34m\u001b[0m\u001b[0m\n\u001b[1;32m    569\u001b[0m     \u001b[0;31m####################\u001b[0m\u001b[0;34m\u001b[0m\u001b[0;34m\u001b[0m\u001b[0;34m\u001b[0m\u001b[0m\n",
      "\u001b[0;32m~/anaconda3/lib/python3.7/site-packages/scipy/sparse/base.py\u001b[0m in \u001b[0;36m__rmul__\u001b[0;34m(self, other)\u001b[0m\n\u001b[1;32m    549\u001b[0m             \u001b[0;32mexcept\u001b[0m \u001b[0mAttributeError\u001b[0m\u001b[0;34m:\u001b[0m\u001b[0;34m\u001b[0m\u001b[0;34m\u001b[0m\u001b[0m\n\u001b[1;32m    550\u001b[0m                 \u001b[0mtr\u001b[0m \u001b[0;34m=\u001b[0m \u001b[0mnp\u001b[0m\u001b[0;34m.\u001b[0m\u001b[0masarray\u001b[0m\u001b[0;34m(\u001b[0m\u001b[0mother\u001b[0m\u001b[0;34m)\u001b[0m\u001b[0;34m.\u001b[0m\u001b[0mtranspose\u001b[0m\u001b[0;34m(\u001b[0m\u001b[0;34m)\u001b[0m\u001b[0;34m\u001b[0m\u001b[0;34m\u001b[0m\u001b[0m\n\u001b[0;32m--> 551\u001b[0;31m             \u001b[0;32mreturn\u001b[0m \u001b[0;34m(\u001b[0m\u001b[0mself\u001b[0m\u001b[0;34m.\u001b[0m\u001b[0mtranspose\u001b[0m\u001b[0;34m(\u001b[0m\u001b[0;34m)\u001b[0m \u001b[0;34m*\u001b[0m \u001b[0mtr\u001b[0m\u001b[0;34m)\u001b[0m\u001b[0;34m.\u001b[0m\u001b[0mtranspose\u001b[0m\u001b[0;34m(\u001b[0m\u001b[0;34m)\u001b[0m\u001b[0;34m\u001b[0m\u001b[0;34m\u001b[0m\u001b[0m\n\u001b[0m\u001b[1;32m    552\u001b[0m \u001b[0;34m\u001b[0m\u001b[0m\n\u001b[1;32m    553\u001b[0m     \u001b[0;31m#####################################\u001b[0m\u001b[0;34m\u001b[0m\u001b[0;34m\u001b[0m\u001b[0;34m\u001b[0m\u001b[0m\n",
      "\u001b[0;32m~/anaconda3/lib/python3.7/site-packages/scipy/sparse/base.py\u001b[0m in \u001b[0;36m__mul__\u001b[0;34m(self, other)\u001b[0m\n\u001b[1;32m    497\u001b[0m             \u001b[0;31m# dense row or column vector\u001b[0m\u001b[0;34m\u001b[0m\u001b[0;34m\u001b[0m\u001b[0;34m\u001b[0m\u001b[0m\n\u001b[1;32m    498\u001b[0m             \u001b[0;32mif\u001b[0m \u001b[0mother\u001b[0m\u001b[0;34m.\u001b[0m\u001b[0mshape\u001b[0m \u001b[0;34m!=\u001b[0m \u001b[0;34m(\u001b[0m\u001b[0mN\u001b[0m\u001b[0;34m,\u001b[0m\u001b[0;34m)\u001b[0m \u001b[0;32mand\u001b[0m \u001b[0mother\u001b[0m\u001b[0;34m.\u001b[0m\u001b[0mshape\u001b[0m \u001b[0;34m!=\u001b[0m \u001b[0;34m(\u001b[0m\u001b[0mN\u001b[0m\u001b[0;34m,\u001b[0m \u001b[0;36m1\u001b[0m\u001b[0;34m)\u001b[0m\u001b[0;34m:\u001b[0m\u001b[0;34m\u001b[0m\u001b[0;34m\u001b[0m\u001b[0m\n\u001b[0;32m--> 499\u001b[0;31m                 \u001b[0;32mraise\u001b[0m \u001b[0mValueError\u001b[0m\u001b[0;34m(\u001b[0m\u001b[0;34m'dimension mismatch'\u001b[0m\u001b[0;34m)\u001b[0m\u001b[0;34m\u001b[0m\u001b[0;34m\u001b[0m\u001b[0m\n\u001b[0m\u001b[1;32m    500\u001b[0m \u001b[0;34m\u001b[0m\u001b[0m\n\u001b[1;32m    501\u001b[0m             \u001b[0mresult\u001b[0m \u001b[0;34m=\u001b[0m \u001b[0mself\u001b[0m\u001b[0;34m.\u001b[0m\u001b[0m_mul_vector\u001b[0m\u001b[0;34m(\u001b[0m\u001b[0mnp\u001b[0m\u001b[0;34m.\u001b[0m\u001b[0mravel\u001b[0m\u001b[0;34m(\u001b[0m\u001b[0mother\u001b[0m\u001b[0;34m)\u001b[0m\u001b[0;34m)\u001b[0m\u001b[0;34m\u001b[0m\u001b[0;34m\u001b[0m\u001b[0m\n",
      "\u001b[0;31mValueError\u001b[0m: dimension mismatch"
     ]
    }
   ],
   "source": [
    "graphCutBin(G,[1, 0, 1, 0,1,0,1,0])"
   ]
  },
  {
   "cell_type": "code",
   "execution_count": 19,
   "metadata": {},
   "outputs": [],
   "source": [
    "vec = np.array([[1,-1,1,-1,1,-1]])\n",
    "mat = graphMatrix(G)"
   ]
  },
  {
   "cell_type": "code",
   "execution_count": 150,
   "metadata": {},
   "outputs": [
    {
     "data": {
      "text/plain": [
       "\"From Wikipedia:\\n    algorithm Misra & Gries edge coloring algorithm is\\n    input: A graph G.\\n    output: A proper coloring c of the edges of G.\\n\\n    Let U := E(G)\\n\\n    while U ≠ ∅ do\\n        Let (u, v) be any edge in U.  \\n        Let F[1:k] be a maximal fan of u starting at F[1] = v.\\n        Let c be a color that is free on u and d be a color that is free on F[k].  \\n        Invert the cdu path  \\n        Let w ∈ V(G) be such that w ∈ F, F' = [F[1]...w] is a fan and d is free on w.  \\n        Rotate F' and set c(u, w) = d.\\n        U := U − {(u, v)}\\n    end while\\n\""
      ]
     },
     "execution_count": 150,
     "metadata": {},
     "output_type": "execute_result"
    }
   ],
   "source": [
    "\"\"\"\n",
    "def misra_gries(G):\n",
    "    #assumes that it is operating on a 3-reg graph => Needs at most 4 colors with misra gries\n",
    "    #use 0 to imply edge is uncolored\n",
    "    #1-4 indicate the coloring of each edge\n",
    "    #God help you if you have to debug this\n",
    "    colors = [\"-1\", \"0\", \"1\", \"2\", \"3\"] #list of possible colors; -1 => uncolored\n",
    "    vertices = G.nodes\n",
    "    edges = G.edges\n",
    "    edge_colors = dict()\n",
    "    for edge in edges():\n",
    "        edge_colors[edge] = colors[0]\n",
    "    free_colors = dict()\n",
    "    for vertex in vertices():\n",
    "        free_colors[vertex] = colors[-4:]\n",
    "        \n",
    "    U = list(G.edges)\n",
    "    \n",
    "    for u,v in U:\n",
    "        #start by creating a maximal fan\n",
    "        print(edge_colors)\n",
    "        print(\"(\",u,\",\",v,\")\")\n",
    "        if edge_colors[(u,v)] != \"-1\":\n",
    "            continue\n",
    "        F = []\n",
    "        F.append(v)\n",
    "        rem_edges = list(edges(u))\n",
    "        rem_edges.remove((u,v))\n",
    "        counter = 0;\n",
    "        for _,b in rem_edges:\n",
    "            if edge_colors[tuple(sorted((u,b)))] in free_colors[F[-1]] or edge_colors[tuple(sorted((u,b)))] == \"-1\":\n",
    "                F.append(b)\n",
    "            else:\n",
    "                rem_edges.append(u,b);\n",
    "            counter += 1\n",
    "            if counter > 100:\n",
    "                print(\"COUNTER EXCEEDED 100 ITERATIONS, MAY BE IN INFINITE LOOP\")\n",
    "                return\n",
    "        print(F)\n",
    "        \n",
    "        #Maximal Fan has been constructed\n",
    "        #Now need to invert cd_u path\n",
    "        c = free_colors[u][0]\n",
    "        d = free_colors[F[-1]][0]\n",
    "        swap_color = c\n",
    "        path_color = d\n",
    "        u_prime = None\n",
    "        v_prime = u\n",
    "        path = [u]\n",
    "        print(\"C: \", c, \", D: \", d)\n",
    "        if(c != d):\n",
    "            #constructing a cd_u path to invert\n",
    "            while(True):\n",
    "                u_prime = v_prime\n",
    "                v_prime = None\n",
    "                \n",
    "                for edge in edges(u_prime):\n",
    "                    print(edge_colors[tuple(sorted(edge))] == path_color)\n",
    "                    if(edge_colors[tuple(sorted(edge))] == path_color):\n",
    "                        if (edge[0] == u_prime):\n",
    "                            v_prime = edge[1]\n",
    "                        else:\n",
    "                            v_prime = edge[0]\n",
    "                        if path_color == c:\n",
    "                            path_color = d\n",
    "                        else:\n",
    "                            path_color = c;\n",
    "                        path.append(v_prime)\n",
    "                        break\n",
    "            \n",
    "                if v_prime == None:\n",
    "                    break\n",
    "            #inverting the cd_u path\n",
    "            while(len(path) > 1):\n",
    "                edge_colors[tuple(sorted(path[:2]))] = swap_color\n",
    "                free_colors[path[0]].remove(swap_color)\n",
    "                free_colors[path[1]].remove(swap_color)\n",
    "                if swap_color == c:\n",
    "                    swap_color = d\n",
    "                else:\n",
    "                    swap_color = c\n",
    "                free_colors[path[0]].append(swap_color)\n",
    "                free_colors[path[0]].sort()\n",
    "                free_colors[path[1]].append(swap_color)\n",
    "                free_colors[path[1]].sort()\n",
    "                path.pop(0)\n",
    "        \n",
    "        w = None\n",
    "        #Find first w s.t. color d is free on w, and rotate that sub-fan.\n",
    "        for w in range(1,len(F)+1):\n",
    "            if(d in free_colors[F[w]]):\n",
    "                break\n",
    "        F_prime = F[:w+1]\n",
    "        #rotate subfan\n",
    "        for i in range(w+1):\n",
    "            if(edge_colors[tuple(sorted((u,F[i])))] != \"-1\"):\n",
    "                free_colors[F[i]].append(edge_colors[tuple(sorted((u,F[i])))])\n",
    "                free_colors[F[i]].sort()\n",
    "            print(\"line 98?\")\n",
    "            if(i != w and edge_colors[tuple(sorted((u,F[i+1])))] != \"-1\"):\n",
    "                free_colors[F[i]].remove(edge_colors[tuple(sorted((u,F[i+1])))])\n",
    "            if(i == w):\n",
    "                edge_colors[tuple(sorted((u,F[i])))] = d\n",
    "                free_colors[u].remove(d)\n",
    "            else:\n",
    "                edge_colors[tuple(sorted((u,F[i])))] = edge_colors[tuple(sorted((u,F[i+1])))]\n",
    "        U.remove(tuple(sorted((u,F[w]))))\n",
    "        if edge_colors[(u,v)] == \"-1\":\n",
    "            U.append((u,v))\n",
    "        #print(edge_colors)\n",
    "    return edge_colors\n",
    "\"\"\"\n",
    "\n",
    "\n",
    "\"\"\"From Wikipedia:\n",
    "    algorithm Misra & Gries edge coloring algorithm is\n",
    "    input: A graph G.\n",
    "    output: A proper coloring c of the edges of G.\n",
    "\n",
    "    Let U := E(G)\n",
    "\n",
    "    while U ≠ ∅ do\n",
    "        Let (u, v) be any edge in U.  \n",
    "        Let F[1:k] be a maximal fan of u starting at F[1] = v.\n",
    "        Let c be a color that is free on u and d be a color that is free on F[k].  \n",
    "        Invert the cdu path  \n",
    "        Let w ∈ V(G) be such that w ∈ F, F' = [F[1]...w] is a fan and d is free on w.  \n",
    "        Rotate F' and set c(u, w) = d.\n",
    "        U := U − {(u, v)}\n",
    "    end while\n",
    "\"\"\""
   ]
  },
  {
   "cell_type": "code",
   "execution_count": 152,
   "metadata": {},
   "outputs": [
    {
     "data": {
      "text/plain": [
       "'G = randomConnectedGraph(4)\\nedge_colors = misra_gries(G)\\nprint(edge_colors)'"
      ]
     },
     "execution_count": 152,
     "metadata": {},
     "output_type": "execute_result"
    }
   ],
   "source": [
    "\"\"\"G = randomConnectedGraph(4)\n",
    "edge_colors = misra_gries(G)\n",
    "print(edge_colors)\"\"\""
   ]
  },
  {
   "cell_type": "code",
   "execution_count": null,
   "metadata": {},
   "outputs": [],
   "source": [
    "ls = [0]\n",
    "for i in ls:\n",
    "    ls.append(i+1)\n",
    "    print(i)\n",
    "    if i >10:\n",
    "        break\n"
   ]
  },
  {
   "cell_type": "code",
   "execution_count": null,
   "metadata": {},
   "outputs": [],
   "source": [
    "(1,2).remove(1)"
   ]
  },
  {
   "cell_type": "code",
   "execution_count": null,
   "metadata": {},
   "outputs": [],
   "source": [
    "sorted((2,1))"
   ]
  },
  {
   "cell_type": "code",
   "execution_count": null,
   "metadata": {},
   "outputs": [],
   "source": [
    "tempdict = {}\n",
    "tempdict[(1,2)] = \"yay\"\n",
    "tempdict[tuple(sorted([2,1]))]"
   ]
  },
  {
   "cell_type": "code",
   "execution_count": null,
   "metadata": {},
   "outputs": [],
   "source": [
    "ls = [1,2,3]\n",
    "ls.pop(0)\n",
    "print(ls)"
   ]
  },
  {
   "cell_type": "code",
   "execution_count": null,
   "metadata": {},
   "outputs": [],
   "source": [
    "ls = [(1,2), (3,4)]\n",
    "ls.append((5,6))\n",
    "print(ls)"
   ]
  },
  {
   "cell_type": "code",
   "execution_count": null,
   "metadata": {},
   "outputs": [],
   "source": [
    "qwerty = None\n",
    "for qwerty in [1,2,3,4,5]:\n",
    "    if qwerty == 3:\n",
    "        break\n",
    "print(qwerty)"
   ]
  },
  {
   "cell_type": "code",
   "execution_count": null,
   "metadata": {},
   "outputs": [],
   "source": [
    "lsdict = dict()\n",
    "lsdict[1] = [1,2]\n",
    "lsdict[1].append(3)\n",
    "lsdict[1].sort()\n",
    "print(lsdict[1])"
   ]
  },
  {
   "cell_type": "code",
   "execution_count": 42,
   "metadata": {
    "scrolled": true
   },
   "outputs": [
    {
     "ename": "NetworkXAlgorithmError",
     "evalue": "Graph has maximum degree 4, needs 5 (> 4) colors for guaranteed coloring.",
     "output_type": "error",
     "traceback": [
      "\u001b[0;31m---------------------------------------------------------------------------\u001b[0m",
      "\u001b[0;31mNetworkXAlgorithmError\u001b[0m                    Traceback (most recent call last)",
      "\u001b[0;32m<ipython-input-42-2dbba711dbc6>\u001b[0m in \u001b[0;36m<module>\u001b[0;34m\u001b[0m\n\u001b[1;32m      4\u001b[0m     \u001b[0mG\u001b[0m \u001b[0;34m=\u001b[0m \u001b[0mrandomConnectedGraph\u001b[0m\u001b[0;34m(\u001b[0m\u001b[0;36m100\u001b[0m\u001b[0;34m)\u001b[0m\u001b[0;34m\u001b[0m\u001b[0;34m\u001b[0m\u001b[0m\n\u001b[1;32m      5\u001b[0m     \u001b[0mlg\u001b[0m \u001b[0;34m=\u001b[0m \u001b[0mnx\u001b[0m\u001b[0;34m.\u001b[0m\u001b[0mgenerators\u001b[0m\u001b[0;34m.\u001b[0m\u001b[0mline\u001b[0m\u001b[0;34m.\u001b[0m\u001b[0mline_graph\u001b[0m\u001b[0;34m(\u001b[0m\u001b[0mG\u001b[0m\u001b[0;34m)\u001b[0m\u001b[0;34m\u001b[0m\u001b[0;34m\u001b[0m\u001b[0m\n\u001b[0;32m----> 6\u001b[0;31m     \u001b[0mcolors\u001b[0m \u001b[0;34m=\u001b[0m \u001b[0mnx\u001b[0m\u001b[0;34m.\u001b[0m\u001b[0mcoloring\u001b[0m\u001b[0;34m.\u001b[0m\u001b[0mequitable_color\u001b[0m\u001b[0;34m(\u001b[0m\u001b[0mlg\u001b[0m\u001b[0;34m,\u001b[0m\u001b[0mnum_colors\u001b[0m\u001b[0;34m=\u001b[0m\u001b[0;36m4\u001b[0m\u001b[0;34m)\u001b[0m\u001b[0;34m\u001b[0m\u001b[0;34m\u001b[0m\u001b[0m\n\u001b[0m\u001b[1;32m      7\u001b[0m     \u001b[0;32mfor\u001b[0m \u001b[0mk\u001b[0m \u001b[0;32min\u001b[0m \u001b[0mcolors\u001b[0m\u001b[0;34m.\u001b[0m\u001b[0mkeys\u001b[0m\u001b[0;34m(\u001b[0m\u001b[0;34m)\u001b[0m\u001b[0;34m:\u001b[0m\u001b[0;34m\u001b[0m\u001b[0;34m\u001b[0m\u001b[0m\n\u001b[1;32m      8\u001b[0m         \u001b[0;32mif\u001b[0m \u001b[0mcolors\u001b[0m\u001b[0;34m[\u001b[0m\u001b[0mk\u001b[0m\u001b[0;34m]\u001b[0m \u001b[0;34m>\u001b[0m \u001b[0mmax_color\u001b[0m\u001b[0;34m:\u001b[0m\u001b[0;34m\u001b[0m\u001b[0;34m\u001b[0m\u001b[0m\n",
      "\u001b[0;32m~/anaconda3/lib/python3.7/site-packages/networkx/algorithms/coloring/equitable_coloring.py\u001b[0m in \u001b[0;36mequitable_color\u001b[0;34m(G, num_colors)\u001b[0m\n\u001b[1;32m    415\u001b[0m         raise nx.NetworkXAlgorithmError(\n\u001b[1;32m    416\u001b[0m             \u001b[0;34m'Graph has maximum degree {}, needs {} (> {}) colors for guaranteed coloring.'\u001b[0m\u001b[0;34m\u001b[0m\u001b[0;34m\u001b[0m\u001b[0m\n\u001b[0;32m--> 417\u001b[0;31m             \u001b[0;34m.\u001b[0m\u001b[0mformat\u001b[0m\u001b[0;34m(\u001b[0m\u001b[0mr_\u001b[0m\u001b[0;34m,\u001b[0m \u001b[0mr_\u001b[0m \u001b[0;34m+\u001b[0m \u001b[0;36m1\u001b[0m\u001b[0;34m,\u001b[0m \u001b[0mnum_colors\u001b[0m\u001b[0;34m)\u001b[0m\u001b[0;34m\u001b[0m\u001b[0;34m\u001b[0m\u001b[0m\n\u001b[0m\u001b[1;32m    418\u001b[0m         )\n\u001b[1;32m    419\u001b[0m \u001b[0;34m\u001b[0m\u001b[0m\n",
      "\u001b[0;31mNetworkXAlgorithmError\u001b[0m: Graph has maximum degree 4, needs 5 (> 4) colors for guaranteed coloring."
     ]
    }
   ],
   "source": [
    "max_color = 0\n",
    "min_color = 100\n",
    "for i in range(1000):\n",
    "    G = randomConnectedGraph(100)\n",
    "    lg = nx.generators.line.line_graph(G)\n",
    "    colors = nx.coloring.equitable_color(lg,num_colors=4)\n",
    "    for k in colors.keys():\n",
    "        if colors[k] > max_color:\n",
    "            max_color = colors[k]\n",
    "        if colors[k] < min_color:\n",
    "            min_color = colors[k]\n",
    "\n",
    "\n",
    "print(max_color)\n",
    "print(min_color)"
   ]
  },
  {
   "cell_type": "code",
   "execution_count": null,
   "metadata": {},
   "outputs": [],
   "source": [
    "arr = [1,2,3,4]\n",
    "print(arr[:2])\n",
    "print(arr[2:])"
   ]
  },
  {
   "cell_type": "code",
   "execution_count": null,
   "metadata": {},
   "outputs": [],
   "source": []
  }
 ],
 "metadata": {
  "kernelspec": {
   "display_name": "Python 3",
   "language": "python",
   "name": "python3"
  },
  "language_info": {
   "codemirror_mode": {
    "name": "ipython",
    "version": 3
   },
   "file_extension": ".py",
   "mimetype": "text/x-python",
   "name": "python",
   "nbconvert_exporter": "python",
   "pygments_lexer": "ipython3",
   "version": "3.7.4"
  }
 },
 "nbformat": 4,
 "nbformat_minor": 4
}
