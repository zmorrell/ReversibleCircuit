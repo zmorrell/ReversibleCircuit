{
 "cells": [
  {
   "cell_type": "code",
   "execution_count": 116,
   "metadata": {},
   "outputs": [],
   "source": [
    "import numpy as np\n",
    "import scipy as sp\n",
    "import pandas as pd\n",
    "import matplotlib.pyplot as plt\n",
    "import networkx as nx\n",
    "import random"
   ]
  },
  {
   "cell_type": "code",
   "execution_count": 272,
   "metadata": {},
   "outputs": [],
   "source": [
    "class Circuit:\n",
    "    def __init__(self,n):\n",
    "        self.n = n\n",
    "        self.wires = [Wire(k) for k in range(n)]\n",
    "        self.gates = []\n",
    "        \n",
    "    def addGate(self,g):\n",
    "        self.gates.append(g)\n",
    "        for bit in g.bits:\n",
    "            self.wires[bit].addGate(g)\n",
    "    \n",
    "    def __str__(self):\n",
    "        string = \"\"\n",
    "        for gate in self.gates:\n",
    "            string = string + str(gate)\n",
    "            \n",
    "        return string\n",
    "        \n",
    "    def fullStoch(self,state=[]):\n",
    "        if state == []:\n",
    "            state = np.zeros(self.n)\n",
    "        state = state2dist(self.n,state)\n",
    "        for gate in self.gates:\n",
    "            state = gate.fullStoch(self.n) @ state\n",
    "        return state\n",
    "    \n",
    "    \n",
    "    def printWires(self):\n",
    "        for wire in self.wires:\n",
    "            print(wire)\n",
    "            \n",
    "    def fireShot(self,state=[]):\n",
    "        if state == []:\n",
    "            state = np.zeros(self.n)\n",
    "            \n",
    "        for gate in self.gates:\n",
    "            gate_state = [state[b] for b in gate.bits]\n",
    "            gate_state = gate.fireLocal(gate_state)\n",
    "            for i in range(len(gate_state)):\n",
    "                state[gate.bits[i]] = gate_state[i]\n",
    "        return state\n",
    "        \n",
    "    def expectationShots(self, numshots):\n",
    "        assert(numshots > 0), \"invalid number of shots, must be more than 0\"\n",
    "        runningtotal = self.fireShot()\n",
    "        for i in range(numshots-1):\n",
    "            runningtotal = runningtotal + self.fireShot()\n",
    "        \n",
    "        return [x / numshots for x in runningtotal]\n",
    "    \n",
    "    def shotsDist(self, numshots):\n",
    "        assert(numshots > 0), \"invalid number of shots, must be more than 0\"\n",
    "        histstates = {}\n",
    "        for i in range(numshots):\n",
    "            state = self.fireShot()\n",
    "            ind = 0\n",
    "            for k in range(len(state)):\n",
    "                ind += 2**k * state[k] \n",
    "            ind = int(ind)\n",
    "            if ind in histstates:\n",
    "                histstates[ind] += 1\n",
    "            else:\n",
    "                histstates[ind] = 1\n",
    "        for k in histstates:\n",
    "            histstates[k] /= numshots\n",
    "        return histstates\n",
    "    \n",
    "    def shotsDistHist(self, numshots):\n",
    "        assert(numshots > 0), \"invalid number of shots, must be more than 0\"\n",
    "        histstates = np.zeros(2**self.n)\n",
    "        xs = np.zeros(2**self.n)\n",
    "        \n",
    "        for i in range(numshots):\n",
    "            state = self.fireShot()\n",
    "            ind = 0\n",
    "            for k in range(len(state)):\n",
    "                 ind += 2**k * state[k] \n",
    "            histstates[ind] += 1\n",
    "            xs[ind] = ind\n",
    "        hist = plt.bar(xs,histstates)\n",
    "        return hist\n",
    "        \n",
    "class Wire:\n",
    "    def __init__(self,k):\n",
    "        self.k = k\n",
    "        self.gates = []\n",
    "    \n",
    "    def addGate(self,g):\n",
    "        self.gates.append(g)\n",
    "    \n",
    "    def removeLastGate(self):\n",
    "        return self.gates.pop()\n",
    "    \n",
    "    def __str__(self):\n",
    "        string = f\"[{self.k}]:\"\n",
    "        for gate in self.gates:\n",
    "            string += str(gate)\n",
    "        return string\n",
    "\n",
    "class Gate:\n",
    "    #assumes if bits = (0,1,2), order is kron(b2,b1,b0).  This follows from c01 gate having control\n",
    "    #on 0 and target on 1 by convention\n",
    "    gatecount = 0\n",
    "\n",
    "    def __init__(self,matrix,bits):\n",
    "        assert(matrix.shape == (2**len(bits),2**len(bits)))\n",
    "        self.matrix = matrix\n",
    "        self.bits = bits\n",
    "        self.id = Gate.gatecount\n",
    "        Gate.gatecount += 1\n",
    "        \n",
    "    def __str__(self):\n",
    "        return f\"-g{self.id}-\"\n",
    "    \n",
    "    \n",
    "    def fireLocal(self,state):\n",
    "        #TODO: verify that this is resilient to weird ordered qubits\n",
    "        state_dist = state2dist(len(state),state)\n",
    "        new_dist = np.dot(self.matrix,state_dist);\n",
    "        new_state = sampledist(len(state),new_dist)\n",
    "        return new_state;\n",
    "    \n",
    "    def fullStoch(self,n):\n",
    "        #TODO: optimize for adjacent bit states (no swaps required)\n",
    "        #first construct hamiltonian operating on first len(bits) qubits, then swap bits to fit order\n",
    "        stoch = self.matrix\n",
    "        for i in range(n - len(self.bits)):\n",
    "            stoch = np.kron([[1,0],[0,1]],stoch)\n",
    "            \n",
    "        swaps = Gate._swapcircuit(self,n)\n",
    "        if len(swaps):\n",
    "            stoch = np.dot(stoch, np.transpose(swaps))\n",
    "            stoch = np.dot(swaps, stoch)\n",
    "            \n",
    "        return stoch\n",
    "    \n",
    "    def _swapcircuit(self,n):\n",
    "        swaplist = Gate._bubbleSortOperations(self.bits) \n",
    "        sortedbits = sorted(self.bits)\n",
    "        for i in range(len(sortedbits)-1,-1,-1):\n",
    "            if not (i == sortedbits[i]):\n",
    "                swaplist.append((i,sortedbits[i]))\n",
    "        return Gate._swapStoch(self,n,swaplist)\n",
    "    \n",
    "    \n",
    "    def _swapStoch(self,n,swaplist):\n",
    "        swapMatrix =  []\n",
    "        if not (len(swaplist) == 0):\n",
    "            swapMatrix = np.eye(2**n)\n",
    "            for swapbits in swaplist:\n",
    "                swapMatrix = np.dot(Gate._generateSwapMatrix(n,swapbits),swapMatrix)\n",
    "        return swapMatrix\n",
    "    \n",
    "    def _generateSwapMatrix(n,swapbits):\n",
    "        N = 2**n\n",
    "        swapMat = np.zeros((N,N))\n",
    "        for i in range(N):\n",
    "            mask1 = i >> swapbits[0] & 1\n",
    "            mask2 = i >> swapbits[1] & 1\n",
    "            xor = mask1 ^ mask2\n",
    "            xor = xor << swapbits[0] | xor << swapbits[1]\n",
    "            j = i ^ xor\n",
    "            swapMat[i,j] = 1\n",
    "        return swapMat\n",
    "    \n",
    "    def _bubbleSortOperations(bits):\n",
    "        issorted = False\n",
    "        swaplist = []\n",
    "        while not issorted:\n",
    "            issorted = True\n",
    "            for i in range(len(bits) - 1):\n",
    "                if bits[i] > bits[i+1]:\n",
    "                    temp = bits[i]\n",
    "                    bits[i] = bits[i+1]\n",
    "                    bits[i+1] = temp\n",
    "                    issorted = False\n",
    "                    swaplist.append((i,i+1))\n",
    "        return swaplist\n",
    "\n",
    "def state2dist(n,state):\n",
    "    ##reverse marginal calculation, assuming no correlation\n",
    "    #state in form: [probBit0, probBit1, ..., probBitn] == ones(n)\n",
    "    #simialr to a bit string\n",
    "    #dist in form [probState0,probState1, ..., probStaten]\n",
    "    #similar to quantum state\n",
    "    dist = np.zeros(2**n)\n",
    "    for i in range(2**n):\n",
    "        iprob = 1;\n",
    "        for k in range(n):\n",
    "            if (1 << k) & i:\n",
    "                iprob *= state[k]\n",
    "            else:\n",
    "                iprob *= 1.0 - state[k]\n",
    "        dist[i] = iprob\n",
    "    return dist\n",
    "            \n",
    "        \n",
    "def dist2state(n,dist):\n",
    "    ##Effectively a marginal calculation\n",
    "    #dist in form [probState0,probState1, ..., probStaten]\n",
    "    #similar to quantum state\n",
    "    #state in form: [probBit0, probBit1, ..., probBitn] == ones(n)\n",
    "    #similar to a bit string\n",
    "    outstate = np.zeros(n);\n",
    "    for i in range(2**n):\n",
    "        for k in range(n):\n",
    "            outstate[k] += (((1 << k) & i)>>k) * dist[i]\n",
    "            \n",
    "    return outstate\n",
    "            \n",
    "def sampledist(n,dist):\n",
    "    choices = [i for i in range(2**n)]\n",
    "    choice = np.random.choice(choices,p=dist)\n",
    "    state = np.zeros(n)\n",
    "    for i in range(n):\n",
    "        state[i] += (((1 << i) & choice) >> i)\n",
    "    return state\n",
    "\n",
    "def randomStochMatrix(n):\n",
    "    mat = np.random.rand(2**n,2**n)\n",
    "    mat = mat/mat.sum(axis = 0)\n",
    "    return mat\n",
    "\n",
    "def stateHistogram(n,dist):\n",
    "    assert (type(dist) == np.ndarray or type(dist) == dict), \"Invalid type for plotting.  Must be np.ndarray or dict\"\n",
    "    if type(dist) == dict:\n",
    "        xs = [k for k in dist]\n",
    "        xs.sort()\n",
    "        ys = [dist[k] for k in xs]\n",
    "        fig, ax = plt.subplots()\n",
    "        ax.bar(xs,ys)\n",
    "        plt.title(\"Sampled Distribution\")\n",
    "        plt.xlabel(\"state\")\n",
    "        plt.ylabel(\"prob\")\n",
    "        \n",
    "        xtickformat = '0' + str(n) + 'b'\n",
    "        xticks = [str(format(x, xtickformat)) for x in xs]\n",
    "        \n",
    "        ax.set_xticks(range(len(xticks)))\n",
    "        ax.set_xticklabels(xticks,rotation=\"vertical\")\n",
    "        return fig\n",
    "    else:\n",
    "        xs = dist.nonzero()\n",
    "        ys = np.array(dist[xs])\n",
    "        xs = xs[0]\n",
    "        print(xs)\n",
    "        print()\n",
    "        print(ys)\n",
    "        fig, ax = plt.subplots()\n",
    "        ax.bar(xs,ys)\n",
    "        plt.title(\"True Distribution\")\n",
    "        plt.xlabel(\"state\")\n",
    "        plt.ylabel(\"prob\")\n",
    "        \n",
    "        xtickformat = '0' + str(n) + 'b'\n",
    "        xticks = [str(format(x, xtickformat)) for x in xs]\n",
    "        \n",
    "        ax.set_xticks(range(len(xticks)))\n",
    "        ax.set_xticklabels(xticks,rotation=\"vertical\")\n",
    "        return fig\n",
    "\n",
    "def randomConnectedGraph(n):\n",
    "    #returns a random connected 3-regular graph\n",
    "    G = nx.generators.random_graphs.random_regular_graph(3,n)\n",
    "    while not nx.is_connected(G):\n",
    "        G = nx.generators.random_graphs.random_regular_graph(3,n);\n",
    "        \n",
    "    #relabelling to fix read/write issues (reads nodes in different order producing wrong\n",
    "    #adjacency matrix)\n",
    "    mapping = dict(zip(G,sorted(G)))\n",
    "    G = nx.relabel_nodes(G, mapping)\n",
    "    return G\n",
    "\n",
    "def readGraph(path):\n",
    "    file = open(path,'r')\n",
    "    G = nx.Graph()\n",
    "    for line in file:\n",
    "        if line[0] == '#':\n",
    "            continue\n",
    "        else:\n",
    "            line = line.strip('\\n')\n",
    "            labels = line.split(' ')\n",
    "            G.add_node(int(labels[0]))\n",
    "    file.seek(0)\n",
    "    for line in file:\n",
    "        if line[0] == '#':\n",
    "            continue\n",
    "        else:\n",
    "            line = line.strip('\\n')\n",
    "            labels = line.split(' ')\n",
    "            edges = [(int(labels[0]),int(labels[i])) for i in range(1,len(labels))]\n",
    "            G.add_edges_from(edges)\n",
    "    file.close()\n",
    "    return G\n",
    "\n",
    "def writeGraph(G,path):\n",
    "    nx.write_adjlist(G,path)\n",
    "    \n",
    "def graphMatrix(G):\n",
    "    return nx.adjacency_matrix(G)\n",
    "\n",
    "def graphCutBin(G,vec):\n",
    "    vec = np.array(vec)\n",
    "    vec = 1 - 2*vec\n",
    "    return graphCutIsing(G,vec);\n",
    "\n",
    "def graphCutIsing(G,vec):\n",
    "    #use mat.size instead of np.sum(mat) for speed. since all weights are 1 in matrix.\n",
    "    vec = np.array([vec])\n",
    "    mat = graphMatrix(G)\n",
    "    return (mat.size - (vec @ mat @ vec.T)[0][0])/4\n",
    "    "
   ]
  },
  {
   "cell_type": "code",
   "execution_count": 293,
   "metadata": {},
   "outputs": [
    {
     "name": "stdout",
     "output_type": "stream",
     "text": [
      "Gates:\n",
      "-g36--g37--g38-\n",
      "\n",
      "Wires:\n",
      "[0]:-g36--g38-\n",
      "[1]:-g36--g37-\n",
      "[2]:-g38-\n",
      "[3]:\n",
      "[4]:\n",
      "\n",
      "Shot Distribution:\n",
      "[0, 1, 2, 3, 4, 5, 6, 7]\n",
      "00000  =>  0.0564\n",
      "00001  =>  0.0805\n",
      "00010  =>  0.0666\n",
      "00011  =>  0.0929\n",
      "00100  =>  0.0628\n",
      "00101  =>  0.2601\n",
      "00110  =>  0.0753\n",
      "00111  =>  0.3054\n",
      "\n",
      "True Distribution:\n",
      "00000  =>  0.05689903902944693\n",
      "00001  =>  0.08067091959893344\n",
      "00010  =>  0.06621533790997297\n",
      "00011  =>  0.09397790562753808\n",
      "00100  =>  0.06438295689174728\n",
      "00101  =>  0.2601539449736026\n",
      "00110  =>  0.0749203489107132\n",
      "00111  =>  0.30277954705804555\n",
      "[0 1 2 3 4 5 6 7]\n",
      "\n",
      "[0.05689904 0.08067092 0.06621534 0.09397791 0.06438296 0.26015394\n",
      " 0.07492035 0.30277955]\n",
      "\n",
      "Graph Examples\n",
      "Graph (original):\n",
      "[(0, 1), (0, 5), (0, 7), (1, 4), (1, 3), (2, 3), (2, 4), (2, 7), (3, 5), (4, 6), (5, 6), (6, 7)]\n",
      "Graph (from file):\n",
      "[(0, 1), (0, 5), (0, 7), (1, 4), (1, 3), (2, 3), (2, 4), (2, 7), (3, 5), (4, 6), (5, 6), (6, 7)]\n",
      "Cut Examples on Crossed Square Graph:\n",
      "[1, 1, 1, 1]\n",
      "cut:  0.0\n",
      "\n",
      "[0, 0, 0, 0]\n",
      "cut:  0.0\n",
      "\n",
      "[1, 1, 0, 0]\n",
      "cut:  4.0\n",
      "\n",
      "[1, -1, 1, -1]\n",
      "cut:  4.0\n",
      "\n",
      "[1, -1, -1, -1]\n",
      "cut:  3.0\n"
     ]
    },
    {
     "data": {
      "image/png": "[encoded data removed]",
      "text/plain": [
       "<Figure size 432x288 with 1 Axes>"
      ]
     },
     "metadata": {
      "needs_background": "light"
     },
     "output_type": "display_data"
    },
    {
     "data": {
      "image/png": "[encoded data removed]",
      "text/plain": [
       "<Figure size 432x288 with 1 Axes>"
      ]
     },
     "metadata": {
      "needs_background": "light"
     },
     "output_type": "display_data"
    }
   ],
   "source": [
    "#convergence checking for V&V\n",
    "n = 5\n",
    "circ = Circuit(n)\n",
    "m1 = randomStochMatrix(2)\n",
    "g1 = Gate(m1,[0,1])\n",
    "\n",
    "m2 = randomStochMatrix(1)\n",
    "g2 = Gate(m2,[1])\n",
    "\n",
    "m3 = randomStochMatrix(2)\n",
    "g3 = Gate(m3,[0,2])\n",
    "\n",
    "circ.addGate(g1)\n",
    "circ.addGate(g2)\n",
    "circ.addGate(g3)\n",
    "\n",
    "print(\"Gates:\")\n",
    "print(circ)\n",
    "print()\n",
    "\n",
    "print(\"Wires:\")\n",
    "circ.printWires()\n",
    "\n",
    "print()\n",
    "\n",
    "print(\"Shot Distribution:\")\n",
    "dist = circ.shotsDist(10000)\n",
    "\n",
    "distkeys = [k for k in dist]\n",
    "distkeys.sort()\n",
    "print(distkeys)\n",
    "for k in distkeys:\n",
    "    binformat = '0' + str(circ.n) + 'b'\n",
    "    print(format(k, binformat) , \" => \", dist[k])\n",
    "\n",
    "print()\n",
    "print(\"True Distribution:\")\n",
    "state = circ.fullStoch()\n",
    "for k in distkeys:\n",
    "    binformat = '0' + str(circ.n) + 'b'\n",
    "    print(format(k,binformat), \" => \", state[k])\n",
    "\n",
    "stateHistogram(n,dist)\n",
    "stateHistogram(n,state)\n",
    "\n",
    "## Graph Example\n",
    "random.seed(123)\n",
    "np.random.seed(456)\n",
    "print()\n",
    "print(\"Graph Examples\")\n",
    "G_8 = randomConnectedGraph(8)\n",
    "print(\"Graph (original):\")\n",
    "print(G_8.edges)\n",
    "\n",
    "writeGraph(G,\"graph_example.adjlist\")\n",
    "G_8_read = readGraph(\"graph_example.adjlist\")\n",
    "\n",
    "print(\"Graph (from file):\")\n",
    "print(G_8_read.edges)\n",
    "\n",
    "G4 = randomConnectedGraph(4)\n",
    "print(\"Cut Examples on Crossed Square Graph:\")\n",
    "\n",
    "vec = [1,1,1,1]\n",
    "print(vec)\n",
    "print(\"cut: \", graphCutBin(G4,vec))\n",
    "print()\n",
    "\n",
    "vec = [0,0,0,0]\n",
    "print(vec)\n",
    "print(\"cut: \", graphCutBin(G4,vec))\n",
    "print()\n",
    "\n",
    "vec = [1,1,0,0]\n",
    "print(vec)\n",
    "print(\"cut: \", graphCutBin(G4,vec))\n",
    "print()\n",
    "\n",
    "vec = [1,-1,1,-1]\n",
    "print(vec)\n",
    "print(\"cut: \", graphCutIsing(G4,vec))\n",
    "print()\n",
    "\n",
    "vec = [1,-1,-1,-1]\n",
    "print(vec)\n",
    "print(\"cut: \", graphCutIsing(G4,vec))"
   ]
  },
  {
   "cell_type": "code",
   "execution_count": 213,
   "metadata": {},
   "outputs": [
    {
     "name": "stdout",
     "output_type": "stream",
     "text": [
      "[0 1 2 3 4 5 6 7]\n",
      "\n",
      "[0.05689904 0.08067092 0.06621534 0.09397791 0.06438296 0.26015394\n",
      " 0.07492035 0.30277955]\n"
     ]
    },
    {
     "data": {
      "image/png": "[encoded data removed]",
      "text/plain": [
       "<Figure size 432x288 with 1 Axes>"
      ]
     },
     "metadata": {
      "needs_background": "light"
     },
     "output_type": "display_data"
    }
   ],
   "source": [
    "state = circ.fullStoch()\n",
    "fig = stateHistogram(4,state)"
   ]
  },
  {
   "cell_type": "code",
   "execution_count": 214,
   "metadata": {},
   "outputs": [],
   "source": [
    "def genRand3Reg(n):\n",
    "    assert(n >= k+1 and 3*n % 2 == 0), \"Invalid number of vertices: k*n must be even and n >= k+1\"\n",
    "    #first construct a minimum spanning tree, then add random edges\n",
    "    graph = randMinSpanningTree(n,k=k-1)\n",
    "    \n",
    "def randBinSpanningTree(n):\n",
    "    vertices = np.array([v for v in range(n)])\n",
    "    #np.random.shuffle(vertices)\n",
    "    return generateBinTree(vertices)\n",
    "\n",
    "def generateBinTree(arr):\n",
    "    #generates a binary tree with a breadth first traversal\n",
    "    arr = np.array(arr)\n",
    "    assert(type(arr) == np.ndarray)\n",
    "    graph = []\n",
    "    length = arr.size\n",
    "    for i in range(length):\n",
    "        if(2*i+1 < length):\n",
    "            graph.append(sorted((arr[i],arr[2*i+1])))\n",
    "        if(2*i+2 < length):\n",
    "            graph.append(sorted((arr[i],arr[2*i+2])))\n",
    "    return graph"
   ]
  },
  {
   "cell_type": "code",
   "execution_count": 215,
   "metadata": {},
   "outputs": [
    {
     "data": {
      "text/plain": [
       "[[0, 1], [0, 2], [1, 3], [1, 4], [2, 5]]"
      ]
     },
     "execution_count": 215,
     "metadata": {},
     "output_type": "execute_result"
    }
   ],
   "source": [
    "randBinSpanningTree(6)"
   ]
  },
  {
   "cell_type": "code",
   "execution_count": 216,
   "metadata": {},
   "outputs": [
    {
     "name": "stdout",
     "output_type": "stream",
     "text": [
      "[0, 1]\n",
      "2\n"
     ]
    }
   ],
   "source": [
    "a = [0,1,2]\n",
    "b = a.pop()\n",
    "print(a)\n",
    "print(b)"
   ]
  },
  {
   "cell_type": "code",
   "execution_count": 217,
   "metadata": {},
   "outputs": [
    {
     "ename": "NameError",
     "evalue": "name 'C10' is not defined",
     "output_type": "error",
     "traceback": [
      "\u001b[0;31m---------------------------------------------------------------------------\u001b[0m",
      "\u001b[0;31mNameError\u001b[0m                                 Traceback (most recent call last)",
      "\u001b[0;32m<ipython-input-217-5d4a4b935602>\u001b[0m in \u001b[0;36m<module>\u001b[0;34m\u001b[0m\n\u001b[0;32m----> 1\u001b[0;31m \u001b[0mC10\u001b[0m\u001b[0;34m.\u001b[0m\u001b[0mmatrix\u001b[0m\u001b[0;34m\u001b[0m\u001b[0;34m\u001b[0m\u001b[0m\n\u001b[0m",
      "\u001b[0;31mNameError\u001b[0m: name 'C10' is not defined"
     ]
    }
   ],
   "source": [
    "C10.matrix"
   ]
  },
  {
   "cell_type": "code",
   "execution_count": 218,
   "metadata": {},
   "outputs": [
    {
     "ename": "NameError",
     "evalue": "name 'C10' is not defined",
     "output_type": "error",
     "traceback": [
      "\u001b[0;31m---------------------------------------------------------------------------\u001b[0m",
      "\u001b[0;31mNameError\u001b[0m                                 Traceback (most recent call last)",
      "\u001b[0;32m<ipython-input-218-afb21b1c7779>\u001b[0m in \u001b[0;36m<module>\u001b[0;34m\u001b[0m\n\u001b[0;32m----> 1\u001b[0;31m \u001b[0mcirc\u001b[0m\u001b[0;34m.\u001b[0m\u001b[0maddGate\u001b[0m\u001b[0;34m(\u001b[0m\u001b[0mC10\u001b[0m\u001b[0;34m)\u001b[0m\u001b[0;34m\u001b[0m\u001b[0;34m\u001b[0m\u001b[0m\n\u001b[0m",
      "\u001b[0;31mNameError\u001b[0m: name 'C10' is not defined"
     ]
    }
   ],
   "source": [
    "circ.addGate(C10)"
   ]
  },
  {
   "cell_type": "code",
   "execution_count": 219,
   "metadata": {},
   "outputs": [
    {
     "name": "stdout",
     "output_type": "stream",
     "text": [
      "-g0--g1--g2-\n",
      "[0]:-g0--g2-\n",
      "[1]:-g0--g1-\n",
      "[2]:-g2-\n",
      "[3]:\n",
      "[4]:\n"
     ]
    }
   ],
   "source": [
    "print(str(circ))\n",
    "circ.printWires()"
   ]
  },
  {
   "cell_type": "code",
   "execution_count": 220,
   "metadata": {},
   "outputs": [
    {
     "ename": "ValueError",
     "evalue": "shapes (32,) and (8,1) not aligned: 32 (dim 0) != 8 (dim 0)",
     "output_type": "error",
     "traceback": [
      "\u001b[0;31m---------------------------------------------------------------------------\u001b[0m",
      "\u001b[0;31mValueError\u001b[0m                                Traceback (most recent call last)",
      "\u001b[0;32m<ipython-input-220-e15c6ac99d72>\u001b[0m in \u001b[0;36m<module>\u001b[0;34m\u001b[0m\n\u001b[1;32m      3\u001b[0m     \u001b[0mx\u001b[0m \u001b[0;34m=\u001b[0m \u001b[0mnp\u001b[0m\u001b[0;34m.\u001b[0m\u001b[0mzeros\u001b[0m\u001b[0;34m(\u001b[0m\u001b[0;34m(\u001b[0m\u001b[0;36m8\u001b[0m\u001b[0;34m,\u001b[0m\u001b[0;36m1\u001b[0m\u001b[0;34m)\u001b[0m\u001b[0;34m)\u001b[0m\u001b[0;34m\u001b[0m\u001b[0;34m\u001b[0m\u001b[0m\n\u001b[1;32m      4\u001b[0m     \u001b[0mx\u001b[0m\u001b[0;34m[\u001b[0m\u001b[0mi\u001b[0m\u001b[0;34m]\u001b[0m \u001b[0;34m=\u001b[0m \u001b[0;36m1\u001b[0m\u001b[0;34m\u001b[0m\u001b[0;34m\u001b[0m\u001b[0m\n\u001b[0;32m----> 5\u001b[0;31m     \u001b[0ma\u001b[0m\u001b[0;34m,\u001b[0m\u001b[0mb\u001b[0m \u001b[0;34m=\u001b[0m \u001b[0mnp\u001b[0m\u001b[0;34m.\u001b[0m\u001b[0mwhere\u001b[0m\u001b[0;34m(\u001b[0m\u001b[0mnp\u001b[0m\u001b[0;34m.\u001b[0m\u001b[0mdot\u001b[0m\u001b[0;34m(\u001b[0m\u001b[0mstoch\u001b[0m\u001b[0;34m,\u001b[0m\u001b[0mx\u001b[0m\u001b[0;34m)\u001b[0m \u001b[0;34m==\u001b[0m \u001b[0;36m1\u001b[0m\u001b[0;34m)\u001b[0m\u001b[0;34m\u001b[0m\u001b[0;34m\u001b[0m\u001b[0m\n\u001b[0m\u001b[1;32m      6\u001b[0m     \u001b[0mprint\u001b[0m\u001b[0;34m(\u001b[0m\u001b[0mi\u001b[0m \u001b[0;34m,\u001b[0m \u001b[0;34m\" => \"\u001b[0m \u001b[0;34m,\u001b[0m \u001b[0ma\u001b[0m\u001b[0;34m[\u001b[0m\u001b[0;36m0\u001b[0m\u001b[0;34m]\u001b[0m\u001b[0;34m)\u001b[0m\u001b[0;34m\u001b[0m\u001b[0;34m\u001b[0m\u001b[0m\n\u001b[1;32m      7\u001b[0m \u001b[0;34m\u001b[0m\u001b[0m\n",
      "\u001b[0;31mValueError\u001b[0m: shapes (32,) and (8,1) not aligned: 32 (dim 0) != 8 (dim 0)"
     ]
    }
   ],
   "source": [
    "stoch = circ.fullStoch()\n",
    "for i in range(8):\n",
    "    x = np.zeros((8,1))\n",
    "    x[i] = 1\n",
    "    a,b = np.where(np.dot(stoch,x) == 1)\n",
    "    print(i , \" => \" , a[0])\n",
    "    \n",
    "print(stoch)\n",
    "    "
   ]
  },
  {
   "cell_type": "code",
   "execution_count": 221,
   "metadata": {},
   "outputs": [
    {
     "data": {
      "text/plain": [
       "array([0.+1.j])"
      ]
     },
     "execution_count": 221,
     "metadata": {},
     "output_type": "execute_result"
    }
   ],
   "source": [
    "np.transpose([1j])"
   ]
  },
  {
   "cell_type": "code",
   "execution_count": 210,
   "metadata": {},
   "outputs": [
    {
     "data": {
      "text/plain": [
       "array([3, 6])"
      ]
     },
     "execution_count": 210,
     "metadata": {},
     "output_type": "execute_result"
    }
   ],
   "source": [
    "a = np.array([1,2])\n",
    "b = np.array([2,4])\n",
    "a + b"
   ]
  },
  {
   "cell_type": "code",
   "execution_count": 211,
   "metadata": {},
   "outputs": [],
   "source": [
    "#circ.expectationShots(100000)"
   ]
  },
  {
   "cell_type": "code",
   "execution_count": 212,
   "metadata": {},
   "outputs": [
    {
     "data": {
      "text/plain": [
       "array([[1, 0],\n",
       "       [0, 1]])"
      ]
     },
     "execution_count": 212,
     "metadata": {},
     "output_type": "execute_result"
    }
   ],
   "source": [
    "x = np.array([[0,1],[1,0]])\n",
    "np.dot(x,x)"
   ]
  },
  {
   "cell_type": "code",
   "execution_count": 213,
   "metadata": {},
   "outputs": [],
   "source": [
    "def test_swap_alg(targs,n):\n",
    "    targs = np.array(targs)\n",
    "    tmpls = [i for i in range(n)]\n",
    "    end = np.setdiff1d(tmpls,targs)\n",
    "    ls = np.concatenate((targs,end))\n",
    "    return ls"
   ]
  },
  {
   "cell_type": "code",
   "execution_count": 214,
   "metadata": {},
   "outputs": [
    {
     "name": "stdout",
     "output_type": "stream",
     "text": [
      "[3 1 0 2 4]\n"
     ]
    }
   ],
   "source": [
    "print(test_swap_alg([3,1], 5))"
   ]
  },
  {
   "cell_type": "code",
   "execution_count": 215,
   "metadata": {},
   "outputs": [
    {
     "data": {
      "text/plain": [
       "0"
      ]
     },
     "execution_count": 215,
     "metadata": {},
     "output_type": "execute_result"
    }
   ],
   "source": [
    "targs = [1, 3,4]\n",
    "ls = [i for i in range(10)]\n",
    "\n",
    "ls[targs in ls]"
   ]
  },
  {
   "cell_type": "code",
   "execution_count": 216,
   "metadata": {},
   "outputs": [
    {
     "name": "stdout",
     "output_type": "stream",
     "text": [
      "[122. 136. 112. 106. 128. 125. 124. 147.]\n",
      "(8,)\n"
     ]
    },
    {
     "data": {
      "image/png": "[encoded data removed]",
      "text/plain": [
       "<Figure size 432x288 with 1 Axes>"
      ]
     },
     "metadata": {
      "needs_background": "light"
     },
     "output_type": "display_data"
    }
   ],
   "source": [
    "hist = circ.shotsHistogram(1000)"
   ]
  },
  {
   "cell_type": "code",
   "execution_count": 217,
   "metadata": {},
   "outputs": [
    {
     "data": {
      "text/plain": [
       "array([[0., 0.],\n",
       "       [0., 0.]])"
      ]
     },
     "execution_count": 217,
     "metadata": {},
     "output_type": "execute_result"
    }
   ],
   "source": [
    "np.zeros((2,2))"
   ]
  },
  {
   "cell_type": "code",
   "execution_count": 53,
   "metadata": {},
   "outputs": [
    {
     "data": {
      "text/plain": [
       "array([[0, 1],\n",
       "       [1, 0]])"
      ]
     },
     "execution_count": 53,
     "metadata": {},
     "output_type": "execute_result"
    }
   ],
   "source": [
    "x = np.array([[0, 1],[1,0]])\n",
    "I = np.array([[1, 0],[0,1]])\n",
    "np.dot(x,I)"
   ]
  },
  {
   "cell_type": "code",
   "execution_count": 38,
   "metadata": {},
   "outputs": [
    {
     "name": "stdout",
     "output_type": "stream",
     "text": [
      "True\n"
     ]
    },
    {
     "name": "stderr",
     "output_type": "stream",
     "text": [
      "/home/zmorrell/anaconda3/lib/python3.7/site-packages/networkx/drawing/nx_pylab.py:579: MatplotlibDeprecationWarning: \n",
      "The iterable function was deprecated in Matplotlib 3.1 and will be removed in 3.3. Use np.iterable instead.\n",
      "  if not cb.iterable(width):\n"
     ]
    },
    {
     "data": {
      "image/png": "[encoded data removed]",
      "text/plain": [
       "<Figure size 432x288 with 1 Axes>"
      ]
     },
     "metadata": {},
     "output_type": "display_data"
    }
   ],
   "source": [
    "G = nx.generators.random_graphs.random_regular_graph(3,6)\n",
    "print(nx.is_connected(G))\n",
    "nx.draw(G)"
   ]
  },
  {
   "cell_type": "code",
   "execution_count": 125,
   "metadata": {},
   "outputs": [
    {
     "name": "stdout",
     "output_type": "stream",
     "text": [
      "[0, 1, 2, 3, 4, 5]\n",
      "[(0, 1), (0, 2), (0, 3), (1, 2), (1, 5), (2, 4), (3, 4), (3, 5), (4, 5)]\n",
      "[0, 1, 2, 3, 5, 4]\n",
      "[(0, 1), (0, 2), (0, 3), (1, 2), (1, 5), (2, 4), (3, 4), (3, 5), (5, 4)]\n"
     ]
    },
    {
     "data": {
      "text/plain": [
       "matrix([[ 0,  0,  0,  0,  0,  0],\n",
       "        [ 0,  0,  0,  0,  1, -1],\n",
       "        [ 0,  0,  0,  0, -1,  1],\n",
       "        [ 0,  0,  0,  0,  0,  0],\n",
       "        [ 0,  1, -1,  0,  0,  0],\n",
       "        [ 0, -1,  1,  0,  0,  0]], dtype=int64)"
      ]
     },
     "execution_count": 125,
     "metadata": {},
     "output_type": "execute_result"
    }
   ],
   "source": [
    "\n",
    "print(G.nodes)\n",
    "print(G.edges)\n",
    "print(G_2.nodes)\n",
    "G_2=readGraph(\"graph_example.adjlist\")\n",
    "print(G_2.edges)\n",
    "sorted(G_2)\n",
    "\n",
    "(nx.adj_matrix(G_2) - nx.adj_matrix(G)).todense()"
   ]
  },
  {
   "cell_type": "code",
   "execution_count": 112,
   "metadata": {},
   "outputs": [
    {
     "name": "stdout",
     "output_type": "stream",
     "text": [
      "(1, 0)\n",
      "(2, 1)\n",
      "(3, 2)\n",
      "(4, 3)\n",
      "(5, 4)\n",
      "(0, 5)\n"
     ]
    }
   ],
   "source": []
  },
  {
   "cell_type": "code",
   "execution_count": 107,
   "metadata": {},
   "outputs": [
    {
     "data": {
      "text/plain": [
       "[0, 1, 2, 3, 4, 5]"
      ]
     },
     "execution_count": 107,
     "metadata": {},
     "output_type": "execute_result"
    }
   ],
   "source": [
    "sorted(G_2)"
   ]
  },
  {
   "cell_type": "code",
   "execution_count": 172,
   "metadata": {},
   "outputs": [],
   "source": [
    "def myParsedGraph(path):\n",
    "    file = open(path,'r')\n",
    "    G = nx.Graph()\n",
    "    for line in file:\n",
    "        if line[0] == '#':\n",
    "            continue\n",
    "        else:\n",
    "            line = line.strip('\\n')\n",
    "            labels = line.split(' ')\n",
    "            G.add_node(int(labels[0]))\n",
    "    file.seek(0)\n",
    "    for line in file:\n",
    "        if line[0] == '#':\n",
    "            continue\n",
    "        else:\n",
    "            line = line.strip('\\n')\n",
    "            labels = line.split(' ')\n",
    "            edges = [(int(labels[0]),int(labels[i])) for i in range(1,len(labels))]\n",
    "            G.add_edges_from(edges)\n",
    "    return G"
   ]
  },
  {
   "cell_type": "code",
   "execution_count": 173,
   "metadata": {},
   "outputs": [],
   "source": [
    "G_mine = myParsedGraph(\"graph_example.adjlist\")"
   ]
  },
  {
   "cell_type": "code",
   "execution_count": 174,
   "metadata": {},
   "outputs": [
    {
     "data": {
      "text/plain": [
       "EdgeView([(0, 1), (0, 2), (0, 3), (1, 2), (1, 5), (2, 4), (3, 4), (3, 5), (4, 5)])"
      ]
     },
     "execution_count": 174,
     "metadata": {},
     "output_type": "execute_result"
    }
   ],
   "source": [
    "G_mine.edges()"
   ]
  },
  {
   "cell_type": "code",
   "execution_count": 200,
   "metadata": {},
   "outputs": [
    {
     "name": "stdout",
     "output_type": "stream",
     "text": [
      "[[1 0]]\n",
      "[[1]\n",
      " [0]]\n",
      "[[1 1]\n",
      " [0 1]]\n",
      "[[1]\n",
      " [0]]\n",
      "[[1]]\n"
     ]
    }
   ],
   "source": [
    "vec = np.array([[1, 0]])\n",
    "mat = np.array([[1,1],[0,1]])\n",
    "\n",
    "print(vec)\n",
    "print((np.transpose(vec)))\n",
    "print(mat)\n",
    "print(np.matmul(mat,vec.T))\n",
    "print(np.matmul(vec,np.matmul(mat,vec.T)))"
   ]
  },
  {
   "cell_type": "code",
   "execution_count": 205,
   "metadata": {},
   "outputs": [
    {
     "name": "stdout",
     "output_type": "stream",
     "text": [
      "  (0, 1)\t1\n",
      "  (0, 2)\t1\n",
      "  (0, 3)\t1\n",
      "  (1, 0)\t1\n",
      "  (1, 2)\t1\n",
      "  (1, 5)\t1\n",
      "  (2, 0)\t1\n",
      "  (2, 1)\t1\n",
      "  (2, 4)\t1\n",
      "  (3, 0)\t1\n",
      "  (3, 4)\t1\n",
      "  (3, 5)\t1\n",
      "  (4, 2)\t1\n",
      "  (4, 3)\t1\n",
      "  (4, 5)\t1\n",
      "  (5, 1)\t1\n",
      "  (5, 3)\t1\n",
      "  (5, 4)\t1\n"
     ]
    },
    {
     "data": {
      "text/plain": [
       "18"
      ]
     },
     "execution_count": 205,
     "metadata": {},
     "output_type": "execute_result"
    }
   ],
   "source": [
    "print(graphMatrix(G))\n",
    "np.sum(graphMatrix(G))"
   ]
  },
  {
   "cell_type": "code",
   "execution_count": 279,
   "metadata": {},
   "outputs": [
    {
     "data": {
      "text/plain": [
       "8.0"
      ]
     },
     "execution_count": 279,
     "metadata": {},
     "output_type": "execute_result"
    }
   ],
   "source": [
    "graphCutBin(G,[1, 0, 1, 0,1,0,1,0])"
   ]
  },
  {
   "cell_type": "code",
   "execution_count": 250,
   "metadata": {},
   "outputs": [],
   "source": [
    "vec = np.array([[1,-1,1,-1,1,-1]])\n",
    "mat = graphMatrix(G)"
   ]
  },
  {
   "cell_type": "code",
   "execution_count": 278,
   "metadata": {},
   "outputs": [
    {
     "data": {
      "text/plain": [
       "18"
      ]
     },
     "execution_count": 278,
     "metadata": {},
     "output_type": "execute_result"
    }
   ],
   "source": [
    "mat.size"
   ]
  },
  {
   "cell_type": "markdown",
   "metadata": {},
   "source": []
  }
 ],
 "metadata": {
  "kernelspec": {
   "display_name": "Python 3",
   "language": "python",
   "name": "python3"
  },
  "language_info": {
   "codemirror_mode": {
    "name": "ipython",
    "version": 3
   },
   "file_extension": ".py",
   "mimetype": "text/x-python",
   "name": "python",
   "nbconvert_exporter": "python",
   "pygments_lexer": "ipython3",
   "version": "3.7.4"
  }
 },
 "nbformat": 4,
 "nbformat_minor": 4
}
