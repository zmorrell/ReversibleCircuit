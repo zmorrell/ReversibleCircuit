{
 "cells": [
  {
   "cell_type": "code",
   "execution_count": 5,
   "metadata": {},
   "outputs": [],
   "source": [
    "import numpy as np\n",
    "import scipy as sp\n",
    "import pandas as pd\n",
    "import matplotlib.pyplot as plt"
   ]
  },
  {
   "cell_type": "code",
   "execution_count": 200,
   "metadata": {},
   "outputs": [],
   "source": [
    "class Circuit:\n",
    "    def __init__(self,n):\n",
    "        self.n = n\n",
    "        self.wires = [Wire(k) for k in range(n)]\n",
    "        self.gates = []\n",
    "        \n",
    "    def addGate(self,g):\n",
    "        self.gates.append(g)\n",
    "        for bit in g.bits:\n",
    "            self.wires[bit].addGate(g)\n",
    "    \n",
    "    def __str__(self):\n",
    "        string = \"\"\n",
    "        for gate in self.gates:\n",
    "            string = string + str(gate)\n",
    "            \n",
    "        return string\n",
    "        \n",
    "    def fullStoch(self):\n",
    "        stoch = None\n",
    "        for gate in self.gates:\n",
    "            if stoch is None:\n",
    "                stoch = gate.fullStoch(self.n)\n",
    "            else:\n",
    "                stoch = np.dot(gate.fullStoch(self.n), stoch)\n",
    "        return stoch\n",
    "    \n",
    "    \n",
    "    def printWires(self):\n",
    "        for wire in self.wires:\n",
    "            print(wire)\n",
    "            \n",
    "    def fireShot(self):\n",
    "        state = np.array([np.random.randint(0,high=2) for i in range(self.n)])\n",
    "        for gate in self.gates:\n",
    "            gate_state = [state[b] for b in gate.bits]\n",
    "            gate_state = gate.fireLocal(gate_state)\n",
    "            for i in range(len(gate_state)):\n",
    "                state[gate.bits[i]] = gate_state[i]\n",
    "        return state\n",
    "        \n",
    "    def expectationShots(self, numshots):\n",
    "        assert(numshots > 0), \"invalid number of shots, must be more than 0\"\n",
    "        runningtotal = self.fireShot()\n",
    "        for i in range(numshots-1):\n",
    "            runningtotal = runningtotal + self.fireShot()\n",
    "        \n",
    "        return [x / numshots for x in runningtotal]\n",
    "    \n",
    "    def shotsHistogram(self, numshots):\n",
    "        assert(numshots > 0), \"invalid number of shots, must be more than 0\"\n",
    "        histstates = np.zeros(2**self.n)\n",
    "        xs = np.zeros(2**self.n)\n",
    "        \n",
    "        for i in range(numshots):\n",
    "            state = self.fireShot()\n",
    "            ind = 0\n",
    "            for k in range(len(state)):\n",
    "                 ind += 2**k * state[k] \n",
    "            histstates[ind] += 1\n",
    "            xs[ind] = ind\n",
    "        print(histstates)\n",
    "        print(histstates.shape)\n",
    "        hist = plt.bar(xs,histstates)\n",
    "        return hist\n",
    "        \n",
    "class Wire:\n",
    "    def __init__(self,k):\n",
    "        self.k = k\n",
    "        self.gates = []\n",
    "    \n",
    "    def addGate(self,g):\n",
    "        self.gates.append(g)\n",
    "    \n",
    "    def removeLastGate(self):\n",
    "        return self.gates.pop()\n",
    "    \n",
    "    def __str__(self):\n",
    "        string = f\"[{self.k}]:\"\n",
    "        for gate in self.gates:\n",
    "            string += str(gate)\n",
    "        return string\n",
    "\n",
    "class Gate:\n",
    "    #assumes if bits = (0,1,2), order is kron(b2,b1,b0).  This follows from c01 gate having control\n",
    "    #on 0 and target on 1 by convention\n",
    "    gatecount = 0\n",
    "\n",
    "    def __init__(self,matrix,bits):\n",
    "        assert(matrix.shape == (2**len(bits),2**len(bits)))\n",
    "        self.matrix = matrix\n",
    "        self.bits = bits\n",
    "        self.id = Gate.gatecount\n",
    "        Gate.gatecount += 1\n",
    "        \n",
    "    def __str__(self):\n",
    "        return f\"-g{self.id}-\"\n",
    "    \n",
    "    \n",
    "    def fireLocal(self,state):\n",
    "        #TODO: verify that this is resilient to weird ordered qubits\n",
    "        state_dist = state2dist(len(state),state)\n",
    "        new_dist = np.dot(self.matrix,state_dist);\n",
    "        new_state = sampledist(len(state),new_dist)\n",
    "        return new_state;\n",
    "    \n",
    "    def fullStoch(self,n):\n",
    "        #TODO: optimize for adjacent bit states (no swaps required)\n",
    "        #first construct hamiltonian operating on first len(bits) qubits, then swap bits to fit order\n",
    "        stoch = self.matrix\n",
    "        for i in range(n - len(self.bits)):\n",
    "            stoch = np.kron([[1,0],[0,1]],stoch)\n",
    "            \n",
    "        swaps = Gate._swapcircuit(self,n)\n",
    "        if len(swaps):\n",
    "            stoch = np.dot(stoch, np.transpose(swaps))\n",
    "            stoch = np.dot(swaps, stoch)\n",
    "            \n",
    "        return stoch\n",
    "    \n",
    "    def _swapcircuit(self,n):\n",
    "        swaplist = Gate._bubbleSortOperations(self.bits) \n",
    "        sortedbits = sorted(self.bits)\n",
    "        for i in range(len(sortedbits)-1,-1,-1):\n",
    "            if not (i == sortedbits[i]):\n",
    "                swaplist.append((i,sortedbits[i]))\n",
    "        return Gate._swapStoch(self,n,swaplist)\n",
    "    \n",
    "    \n",
    "    def _swapStoch(self,n,swaplist):\n",
    "        swapMatrix =  []\n",
    "        if not (len(swaplist) == 0):\n",
    "            swapMatrix = np.eye(2**n)\n",
    "            for swapbits in swaplist:\n",
    "                swapMatrix = np.dot(Gate._generateSwapMatrix(n,swapbits),swapMatrix)\n",
    "        return swapMatrix\n",
    "    \n",
    "    def _generateSwapMatrix(n,swapbits):\n",
    "        N = 2**n\n",
    "        swapMat = np.zeros((N,N))\n",
    "        for i in range(N):\n",
    "            mask1 = i >> swapbits[0] & 1\n",
    "            mask2 = i >> swapbits[1] & 1\n",
    "            xor = mask1 ^ mask2\n",
    "            xor = xor << swapbits[0] | xor << swapbits[1]\n",
    "            j = i ^ xor\n",
    "            swapMat[i,j] = 1\n",
    "        return swapMat\n",
    "    \n",
    "    def _bubbleSortOperations(bits):\n",
    "        issorted = False\n",
    "        swaplist = []\n",
    "        while not issorted:\n",
    "            issorted = True\n",
    "            for i in range(len(bits) - 1):\n",
    "                if bits[i] > bits[i+1]:\n",
    "                    temp = bits[i]\n",
    "                    bits[i] = bits[i+1]\n",
    "                    bits[i+1] = temp\n",
    "                    issorted = False\n",
    "                    swaplist.append((i,i+1))\n",
    "        return swaplist\n",
    "\n",
    "def state2dist(n,state):\n",
    "    ##reverse marginal calculation, assuming no correlation\n",
    "    #state in form: [probBit0, probBit1, ..., probBitn] == ones(n)\n",
    "    #simialr to a bit string\n",
    "    #dist in form [probState0,probState1, ..., probStaten]\n",
    "    #similar to quantum state\n",
    "    dist = np.zeros(2**n)\n",
    "    for i in range(2**n):\n",
    "        iprob = 1;\n",
    "        for k in range(n):\n",
    "            if (1 << k) & i:\n",
    "                iprob *= state[k]\n",
    "            else:\n",
    "                iprob *= 1.0 - state[k]\n",
    "        dist[i] = iprob\n",
    "    return dist\n",
    "            \n",
    "        \n",
    "def dist2state(n,dist):\n",
    "    ##Effectively a marginal calculation\n",
    "    #dist in form [probState0,probState1, ..., probStaten]\n",
    "    #similar to quantum state\n",
    "    #state in form: [probBit0, probBit1, ..., probBitn] == ones(n)\n",
    "    #similar to a bit string\n",
    "    outstate = np.zeros(n);\n",
    "    for i in range(2**n):\n",
    "        for k in range(n):\n",
    "            outstate[k] += (((1 << k) & i)>>k) * dist[i]\n",
    "            \n",
    "    return outstate\n",
    "            \n",
    "def sampledist(n,dist):\n",
    "    choices = [i for i in range(2**n)]\n",
    "    choice = np.random.choice(choices,p=dist)\n",
    "    state = np.zeros(n)\n",
    "    for i in range(n):\n",
    "        state[i] += (((1 << i) & choice) >> i)\n",
    "    return state\n",
    "    \n"
   ]
  },
  {
   "cell_type": "code",
   "execution_count": 201,
   "metadata": {},
   "outputs": [
    {
     "data": {
      "text/plain": [
       "(2,)"
      ]
     },
     "execution_count": 201,
     "metadata": {},
     "output_type": "execute_result"
    }
   ],
   "source": [
    "(np.zeros(2)).shape"
   ]
  },
  {
   "cell_type": "code",
   "execution_count": null,
   "metadata": {},
   "outputs": [],
   "source": []
  },
  {
   "cell_type": "code",
   "execution_count": 202,
   "metadata": {},
   "outputs": [
    {
     "ename": "NameError",
     "evalue": "name 'swaptemp' is not defined",
     "output_type": "error",
     "traceback": [
      "\u001b[0;31m---------------------------------------------------------------------------\u001b[0m",
      "\u001b[0;31mNameError\u001b[0m                                 Traceback (most recent call last)",
      "\u001b[0;32m<ipython-input-202-9077a5bc3de8>\u001b[0m in \u001b[0;36m<module>\u001b[0;34m\u001b[0m\n\u001b[0;32m----> 1\u001b[0;31m \u001b[0mswaptemp\u001b[0m\u001b[0;34m(\u001b[0m\u001b[0;36m3\u001b[0m\u001b[0;34m,\u001b[0m\u001b[0;34m(\u001b[0m\u001b[0;36m2\u001b[0m\u001b[0;34m,\u001b[0m\u001b[0;36m1\u001b[0m\u001b[0;34m)\u001b[0m\u001b[0;34m)\u001b[0m\u001b[0;34m\u001b[0m\u001b[0;34m\u001b[0m\u001b[0m\n\u001b[0m",
      "\u001b[0;31mNameError\u001b[0m: name 'swaptemp' is not defined"
     ]
    }
   ],
   "source": [
    "swaptemp(3,(2,1))"
   ]
  },
  {
   "cell_type": "code",
   "execution_count": 203,
   "metadata": {},
   "outputs": [],
   "source": [
    "circ = Circuit(3)"
   ]
  },
  {
   "cell_type": "code",
   "execution_count": 204,
   "metadata": {},
   "outputs": [],
   "source": [
    "C10 = Gate(np.array([[1,0,0,0],[0,1,0,0],[0,0,0,1],[0,0,1,0]]),(1,2))"
   ]
  },
  {
   "cell_type": "code",
   "execution_count": 205,
   "metadata": {},
   "outputs": [
    {
     "data": {
      "text/plain": [
       "array([[1, 0, 0, 0],\n",
       "       [0, 1, 0, 0],\n",
       "       [0, 0, 0, 1],\n",
       "       [0, 0, 1, 0]])"
      ]
     },
     "execution_count": 205,
     "metadata": {},
     "output_type": "execute_result"
    }
   ],
   "source": [
    "C10.matrix"
   ]
  },
  {
   "cell_type": "code",
   "execution_count": 206,
   "metadata": {},
   "outputs": [],
   "source": [
    "circ.addGate(C10)"
   ]
  },
  {
   "cell_type": "code",
   "execution_count": 207,
   "metadata": {},
   "outputs": [
    {
     "name": "stdout",
     "output_type": "stream",
     "text": [
      "-g0-\n",
      "[0]:\n",
      "[1]:-g0-\n",
      "[2]:-g0-\n"
     ]
    }
   ],
   "source": [
    "print(str(circ))\n",
    "circ.printWires()"
   ]
  },
  {
   "cell_type": "code",
   "execution_count": 208,
   "metadata": {},
   "outputs": [
    {
     "name": "stdout",
     "output_type": "stream",
     "text": [
      "0  =>  0\n",
      "1  =>  1\n",
      "2  =>  2\n",
      "3  =>  3\n",
      "4  =>  6\n",
      "5  =>  7\n",
      "6  =>  4\n",
      "7  =>  5\n",
      "[[1. 0. 0. 0. 0. 0. 0. 0.]\n",
      " [0. 1. 0. 0. 0. 0. 0. 0.]\n",
      " [0. 0. 1. 0. 0. 0. 0. 0.]\n",
      " [0. 0. 0. 1. 0. 0. 0. 0.]\n",
      " [0. 0. 0. 0. 0. 0. 1. 0.]\n",
      " [0. 0. 0. 0. 0. 0. 0. 1.]\n",
      " [0. 0. 0. 0. 1. 0. 0. 0.]\n",
      " [0. 0. 0. 0. 0. 1. 0. 0.]]\n"
     ]
    }
   ],
   "source": [
    "stoch = circ.fullStoch()\n",
    "for i in range(8):\n",
    "    x = np.zeros((8,1))\n",
    "    x[i] = 1\n",
    "    a,b = np.where(np.dot(stoch,x) == 1)\n",
    "    print(i , \" => \" , a[0])\n",
    "    \n",
    "print(stoch)\n",
    "    "
   ]
  },
  {
   "cell_type": "code",
   "execution_count": 209,
   "metadata": {},
   "outputs": [
    {
     "data": {
      "text/plain": [
       "array([0.+1.j])"
      ]
     },
     "execution_count": 209,
     "metadata": {},
     "output_type": "execute_result"
    }
   ],
   "source": [
    "np.transpose([1j])"
   ]
  },
  {
   "cell_type": "code",
   "execution_count": 210,
   "metadata": {},
   "outputs": [
    {
     "data": {
      "text/plain": [
       "array([3, 6])"
      ]
     },
     "execution_count": 210,
     "metadata": {},
     "output_type": "execute_result"
    }
   ],
   "source": [
    "a = np.array([1,2])\n",
    "b = np.array([2,4])\n",
    "a + b"
   ]
  },
  {
   "cell_type": "code",
   "execution_count": 211,
   "metadata": {},
   "outputs": [],
   "source": [
    "#circ.expectationShots(100000)"
   ]
  },
  {
   "cell_type": "code",
   "execution_count": 212,
   "metadata": {},
   "outputs": [
    {
     "data": {
      "text/plain": [
       "array([[1, 0],\n",
       "       [0, 1]])"
      ]
     },
     "execution_count": 212,
     "metadata": {},
     "output_type": "execute_result"
    }
   ],
   "source": [
    "x = np.array([[0,1],[1,0]])\n",
    "np.dot(x,x)"
   ]
  },
  {
   "cell_type": "code",
   "execution_count": 213,
   "metadata": {},
   "outputs": [],
   "source": [
    "def test_swap_alg(targs,n):\n",
    "    targs = np.array(targs)\n",
    "    tmpls = [i for i in range(n)]\n",
    "    end = np.setdiff1d(tmpls,targs)\n",
    "    ls = np.concatenate((targs,end))\n",
    "    return ls"
   ]
  },
  {
   "cell_type": "code",
   "execution_count": 214,
   "metadata": {},
   "outputs": [
    {
     "name": "stdout",
     "output_type": "stream",
     "text": [
      "[3 1 0 2 4]\n"
     ]
    }
   ],
   "source": [
    "print(test_swap_alg([3,1], 5))"
   ]
  },
  {
   "cell_type": "code",
   "execution_count": 215,
   "metadata": {},
   "outputs": [
    {
     "data": {
      "text/plain": [
       "0"
      ]
     },
     "execution_count": 215,
     "metadata": {},
     "output_type": "execute_result"
    }
   ],
   "source": [
    "targs = [1, 3,4]\n",
    "ls = [i for i in range(10)]\n",
    "\n",
    "ls[targs in ls]"
   ]
  },
  {
   "cell_type": "code",
   "execution_count": 216,
   "metadata": {},
   "outputs": [
    {
     "name": "stdout",
     "output_type": "stream",
     "text": [
      "[122. 136. 112. 106. 128. 125. 124. 147.]\n",
      "(8,)\n"
     ]
    },
    {
     "data": {
      "image/png": "[encoded data removed]",
      "text/plain": [
       "<Figure size 432x288 with 1 Axes>"
      ]
     },
     "metadata": {
      "needs_background": "light"
     },
     "output_type": "display_data"
    }
   ],
   "source": [
    "hist = circ.shotsHistogram(1000)"
   ]
  },
  {
   "cell_type": "code",
   "execution_count": 217,
   "metadata": {},
   "outputs": [
    {
     "data": {
      "text/plain": [
       "array([[0., 0.],\n",
       "       [0., 0.]])"
      ]
     },
     "execution_count": 217,
     "metadata": {},
     "output_type": "execute_result"
    }
   ],
   "source": [
    "np.zeros((2,2))"
   ]
  },
  {
   "cell_type": "code",
   "execution_count": 53,
   "metadata": {},
   "outputs": [
    {
     "data": {
      "text/plain": [
       "array([[0, 1],\n",
       "       [1, 0]])"
      ]
     },
     "execution_count": 53,
     "metadata": {},
     "output_type": "execute_result"
    }
   ],
   "source": [
    "x = np.array([[0, 1],[1,0]])\n",
    "I = np.array([[1, 0],[0,1]])\n",
    "np.dot(x,I)"
   ]
  },
  {
   "cell_type": "code",
   "execution_count": null,
   "metadata": {},
   "outputs": [],
   "source": []
  }
 ],
 "metadata": {
  "kernelspec": {
   "display_name": "Python 3",
   "language": "python",
   "name": "python3"
  },
  "language_info": {
   "codemirror_mode": {
    "name": "ipython",
    "version": 3
   },
   "file_extension": ".py",
   "mimetype": "text/x-python",
   "name": "python",
   "nbconvert_exporter": "python",
   "pygments_lexer": "ipython3",
   "version": "3.7.4"
  }
 },
 "nbformat": 4,
 "nbformat_minor": 4
}
