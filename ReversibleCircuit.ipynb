{
 "cells": [
  {
   "cell_type": "code",
   "execution_count": 34,
   "metadata": {},
   "outputs": [],
   "source": [
    "import numpy as np\n",
    "import scipy as sp\n",
    "import pandas as pd\n",
    "import matplotlib.pyplot as plt"
   ]
  },
  {
   "cell_type": "code",
   "execution_count": 295,
   "metadata": {},
   "outputs": [],
   "source": [
    "class Circuit:\n",
    "    def __init__(self,n):\n",
    "        self.n = n\n",
    "        self.wires = [Wire(k) for k in range(n)]\n",
    "        self.gates = []\n",
    "        \n",
    "    def addGate(self,g):\n",
    "        self.gates.append(g)\n",
    "        for bit in g.bits:\n",
    "            self.wires[bit].addGate(g)\n",
    "    \n",
    "    def __str__(self):\n",
    "        string = \"\"\n",
    "        for gate in self.gates:\n",
    "            string = string + str(gate)\n",
    "            \n",
    "        return string\n",
    "        \n",
    "    def fullStoch(self):\n",
    "        stoch = None\n",
    "        for gate in self.gates:\n",
    "            if stoch == None:\n",
    "                stoch = gate.fullStoch(self.n)\n",
    "            else:\n",
    "                stoch = np.dot(gate.fullStoch(self.n) * ham)\n",
    "        return stoch\n",
    "    \n",
    "    \n",
    "    def printWires(self):\n",
    "        for wire in self.wires:\n",
    "            print(wire)\n",
    "        \n",
    "class Wire:\n",
    "    def __init__(self,k):\n",
    "        self.k = k\n",
    "        self.gates = []\n",
    "    \n",
    "    def addGate(self,g):\n",
    "        self.gates.append(g)\n",
    "    \n",
    "    def removeLastGate(self):\n",
    "        return self.gates.pop()\n",
    "    \n",
    "    def __str__(self):\n",
    "        string = f\"[{self.k}]:\"\n",
    "        for gate in self.gates:\n",
    "            string += str(gate)\n",
    "        return string\n",
    "\n",
    "class Gate:\n",
    "    #assumes if bits = (0,1,2), order is kron(b2,b1,b0).  This follows from c01 gate having control\n",
    "    #on 0 and target on 1 by convention\n",
    "    gatecount = 0\n",
    "\n",
    "    def __init__(self,matrix,bits):\n",
    "        assert(matrix.shape == (2**len(bits),2**len(bits)))\n",
    "        self.matrix = matrix\n",
    "        self.bits = bits\n",
    "        self.id = Gate.gatecount\n",
    "        Gate.gatecount += 1\n",
    "        \n",
    "    def __str__(self):\n",
    "        return f\"-g{self.id}-\"\n",
    "    \n",
    "    \n",
    "    \n",
    "    def fullStoch(self,n):\n",
    "        #first construct hamiltonian operating on first len(bits) qubits, then swap bits to fit order\n",
    "        stoch = self.matrix\n",
    "        for i in range(n - len(self.bits)):\n",
    "            stoch = np.kron([[1,0],[0,1]],stoch)\n",
    "            \n",
    "        swaps = Gate._swapcircuit(self,n)\n",
    "        if not (swaps == []):\n",
    "            print(swaps)\n",
    "            print(stoch)\n",
    "            stoch = swaps * stoch\n",
    "            \n",
    "        return stoch\n",
    "    \n",
    "    def _swapcircuit(self,n):\n",
    "        swaplist = Gate._bubbleSortOperations(self.bits) \n",
    "        sortedbits = sorted(self.bits)\n",
    "        for i in range(len(sortedbits)):\n",
    "            if not (i == sortedbits[i]):\n",
    "                swaplist.append((i,sortedbits[i]))\n",
    "        return Gate._swapStoch(self,n,swaplist)\n",
    "    \n",
    "    \n",
    "    def _swapStoch(self,n,swaplist):\n",
    "        swapMatrix =  []\n",
    "        if not (len(swaplist) == 0):\n",
    "            swapMatrix = np.eye(2^n)\n",
    "            for swapbits in swaplist:\n",
    "                swapMatrix *= _generateSwapMatrix(n,swapbits)\n",
    "        return swapMatrix\n",
    "    \n",
    "    def _generateSwapMatrix(n,swapbits):\n",
    "        N = 2**n\n",
    "        swapMat = np.zeros((N,N))\n",
    "        for i in range(N):\n",
    "            mask1 = i >> bits[0] & 1\n",
    "            mask2 = i >> bits[1] & 1\n",
    "            xor = mask1 ^ mask2\n",
    "            xor = xor << bits[0] | xor << bits[1]\n",
    "            j = i ^ xor\n",
    "            swapMat[i,j] = 1\n",
    "        return swapMat\n",
    "    \n",
    "    def _bubbleSortOperations(bits):\n",
    "        issorted = False\n",
    "        swaplist = []\n",
    "        while not issorted:\n",
    "            issorted = True\n",
    "            for i in range(len(bits) - 1):\n",
    "                if bits[i] > bits[i+1]:\n",
    "                    temp = bits[i]\n",
    "                    bits[i] = bits[i+1]\n",
    "                    bits[i+1] = temp\n",
    "                    issorted = False\n",
    "                    swaplist.append((i,i+1))\n",
    "        return swaplist\n",
    "        \n",
    "            \n",
    "\n"
   ]
  },
  {
   "cell_type": "code",
   "execution_count": null,
   "metadata": {},
   "outputs": [],
   "source": []
  },
  {
   "cell_type": "code",
   "execution_count": 296,
   "metadata": {},
   "outputs": [
    {
     "name": "stdout",
     "output_type": "stream",
     "text": [
      "8\n",
      "[[0. 0. 0. 0. 0. 0. 0. 0.]\n",
      " [0. 0. 0. 0. 0. 0. 0. 0.]\n",
      " [0. 0. 0. 0. 0. 0. 0. 0.]\n",
      " [0. 0. 0. 0. 0. 0. 0. 0.]\n",
      " [0. 0. 0. 0. 0. 0. 0. 0.]\n",
      " [0. 0. 0. 0. 0. 0. 0. 0.]\n",
      " [0. 0. 0. 0. 0. 0. 0. 0.]\n",
      " [0. 0. 0. 0. 0. 0. 0. 0.]]\n"
     ]
    },
    {
     "data": {
      "text/plain": [
       "array([[1., 0., 0., 0., 0., 0., 0., 0.],\n",
       "       [0., 0., 1., 0., 0., 0., 0., 0.],\n",
       "       [0., 1., 0., 0., 0., 0., 0., 0.],\n",
       "       [0., 0., 0., 1., 0., 0., 0., 0.],\n",
       "       [0., 0., 0., 0., 1., 0., 0., 0.],\n",
       "       [0., 0., 0., 0., 0., 0., 1., 0.],\n",
       "       [0., 0., 0., 0., 0., 1., 0., 0.],\n",
       "       [0., 0., 0., 0., 0., 0., 0., 1.]])"
      ]
     },
     "execution_count": 296,
     "metadata": {},
     "output_type": "execute_result"
    }
   ],
   "source": [
    "swaptemp(3,(0,1))"
   ]
  },
  {
   "cell_type": "code",
   "execution_count": 297,
   "metadata": {},
   "outputs": [],
   "source": [
    "circ = Circuit(3)"
   ]
  },
  {
   "cell_type": "code",
   "execution_count": 298,
   "metadata": {},
   "outputs": [],
   "source": [
    "C01 = Gate(np.array([[1,0,0,0],[0,1,0,0],[0,0,0,1],[0,0,1,0]]),(0,1))"
   ]
  },
  {
   "cell_type": "code",
   "execution_count": 299,
   "metadata": {},
   "outputs": [
    {
     "data": {
      "text/plain": [
       "array([[1, 0, 0, 0],\n",
       "       [0, 1, 0, 0],\n",
       "       [0, 0, 0, 1],\n",
       "       [0, 0, 1, 0]])"
      ]
     },
     "execution_count": 299,
     "metadata": {},
     "output_type": "execute_result"
    }
   ],
   "source": [
    "C01.matrix"
   ]
  },
  {
   "cell_type": "code",
   "execution_count": 300,
   "metadata": {},
   "outputs": [],
   "source": [
    "circ.addGate(C01)"
   ]
  },
  {
   "cell_type": "code",
   "execution_count": 301,
   "metadata": {},
   "outputs": [
    {
     "name": "stdout",
     "output_type": "stream",
     "text": [
      "-g0-\n"
     ]
    }
   ],
   "source": [
    "print(str(circ))"
   ]
  },
  {
   "cell_type": "code",
   "execution_count": 302,
   "metadata": {},
   "outputs": [
    {
     "data": {
      "text/plain": [
       "array([[1, 0, 0, 0, 0, 0, 0, 0],\n",
       "       [0, 1, 0, 0, 0, 0, 0, 0],\n",
       "       [0, 0, 0, 1, 0, 0, 0, 0],\n",
       "       [0, 0, 1, 0, 0, 0, 0, 0],\n",
       "       [0, 0, 0, 0, 1, 0, 0, 0],\n",
       "       [0, 0, 0, 0, 0, 1, 0, 0],\n",
       "       [0, 0, 0, 0, 0, 0, 0, 1],\n",
       "       [0, 0, 0, 0, 0, 0, 1, 0]])"
      ]
     },
     "execution_count": 302,
     "metadata": {},
     "output_type": "execute_result"
    }
   ],
   "source": [
    "circ.fullStoch()"
   ]
  },
  {
   "cell_type": "code",
   "execution_count": 303,
   "metadata": {},
   "outputs": [
    {
     "name": "stdout",
     "output_type": "stream",
     "text": [
      "(0, 1)\n"
     ]
    }
   ],
   "source": []
  },
  {
   "cell_type": "code",
   "execution_count": 284,
   "metadata": {},
   "outputs": [
    {
     "name": "stdout",
     "output_type": "stream",
     "text": [
      "[0]:-g0-\n",
      "[1]:-g0-\n",
      "[2]:\n"
     ]
    }
   ],
   "source": [
    "circ.printWires()"
   ]
  },
  {
   "cell_type": "code",
   "execution_count": 285,
   "metadata": {},
   "outputs": [
    {
     "data": {
      "text/plain": [
       "array([1, 0, 0, 0])"
      ]
     },
     "execution_count": 285,
     "metadata": {},
     "output_type": "execute_result"
    }
   ],
   "source": [
    "np.kron([1,0],[1,0])"
   ]
  },
  {
   "cell_type": "code",
   "execution_count": 286,
   "metadata": {},
   "outputs": [
    {
     "data": {
      "text/plain": [
       "array([[1, 0],\n",
       "       [0, 1]])"
      ]
     },
     "execution_count": 286,
     "metadata": {},
     "output_type": "execute_result"
    }
   ],
   "source": [
    "x = np.array([[0,1],[1,0]])\n",
    "np.dot(x,x)"
   ]
  },
  {
   "cell_type": "code",
   "execution_count": 79,
   "metadata": {},
   "outputs": [],
   "source": [
    "def test_swap_alg(targs,n):\n",
    "    targs = np.array(targs)\n",
    "    tmpls = [i for i in range(n)]\n",
    "    end = np.setdiff1d(tmpls,targs)\n",
    "    ls = np.concatenate((targs,end))\n",
    "    return ls"
   ]
  },
  {
   "cell_type": "code",
   "execution_count": 80,
   "metadata": {},
   "outputs": [
    {
     "name": "stdout",
     "output_type": "stream",
     "text": [
      "[3 1 0 2 4]\n"
     ]
    }
   ],
   "source": [
    "print(test_swap_alg([3,1], 5))"
   ]
  },
  {
   "cell_type": "code",
   "execution_count": 81,
   "metadata": {},
   "outputs": [
    {
     "data": {
      "text/plain": [
       "0"
      ]
     },
     "execution_count": 81,
     "metadata": {},
     "output_type": "execute_result"
    }
   ],
   "source": [
    "targs = [1, 3,4]\n",
    "ls = [i for i in range(10)]\n",
    "\n",
    "ls[targs in ls]"
   ]
  },
  {
   "cell_type": "code",
   "execution_count": 82,
   "metadata": {},
   "outputs": [
    {
     "ename": "AttributeError",
     "evalue": "'Circuit' object has no attribute 'hamiltonian'",
     "output_type": "error",
     "traceback": [
      "\u001b[0;31m---------------------------------------------------------------------------\u001b[0m",
      "\u001b[0;31mAttributeError\u001b[0m                            Traceback (most recent call last)",
      "\u001b[0;32m<ipython-input-82-0cf58c5ab792>\u001b[0m in \u001b[0;36m<module>\u001b[0;34m\u001b[0m\n\u001b[0;32m----> 1\u001b[0;31m \u001b[0mprint\u001b[0m\u001b[0;34m(\u001b[0m\u001b[0mcirc\u001b[0m\u001b[0;34m.\u001b[0m\u001b[0mhamiltonian\u001b[0m\u001b[0;34m(\u001b[0m\u001b[0;34m)\u001b[0m\u001b[0;34m)\u001b[0m\u001b[0;34m\u001b[0m\u001b[0;34m\u001b[0m\u001b[0m\n\u001b[0m",
      "\u001b[0;31mAttributeError\u001b[0m: 'Circuit' object has no attribute 'hamiltonian'"
     ]
    }
   ],
   "source": [
    "\\"
   ]
  },
  {
   "cell_type": "code",
   "execution_count": 83,
   "metadata": {},
   "outputs": [
    {
     "data": {
      "text/plain": [
       "array([[0., 0.],\n",
       "       [0., 0.]])"
      ]
     },
     "execution_count": 83,
     "metadata": {},
     "output_type": "execute_result"
    }
   ],
   "source": [
    "np.zeros((2,2))"
   ]
  },
  {
   "cell_type": "code",
   "execution_count": null,
   "metadata": {},
   "outputs": [],
   "source": []
  },
  {
   "cell_type": "code",
   "execution_count": null,
   "metadata": {},
   "outputs": [],
   "source": []
  }
 ],
 "metadata": {
  "kernelspec": {
   "display_name": "Python 3",
   "language": "python",
   "name": "python3"
  },
  "language_info": {
   "codemirror_mode": {
    "name": "ipython",
    "version": 3
   },
   "file_extension": ".py",
   "mimetype": "text/x-python",
   "name": "python",
   "nbconvert_exporter": "python",
   "pygments_lexer": "ipython3",
   "version": "3.7.4"
  }
 },
 "nbformat": 4,
 "nbformat_minor": 4
}
