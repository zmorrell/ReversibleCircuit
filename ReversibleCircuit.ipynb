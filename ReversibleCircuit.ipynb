{
 "cells": [
  {
   "cell_type": "code",
   "execution_count": 268,
   "metadata": {},
   "outputs": [],
   "source": [
    "import numpy as np\n",
    "import scipy as sp\n",
    "import pandas as pd\n",
    "import matplotlib.pyplot as plt"
   ]
  },
  {
   "cell_type": "code",
   "execution_count": 364,
   "metadata": {},
   "outputs": [],
   "source": [
    "class Circuit:\n",
    "    def __init__(self,n):\n",
    "        self.n = n\n",
    "        self.wires = [Wire(k) for k in range(n)]\n",
    "        self.gates = []\n",
    "        \n",
    "    def addGate(self,g):\n",
    "        self.gates.append(g)\n",
    "        for bit in g.bits:\n",
    "            self.wires[bit].addGate(g)\n",
    "    \n",
    "    def __str__(self):\n",
    "        string = \"\"\n",
    "        for gate in self.gates:\n",
    "            string = string + str(gate)\n",
    "            \n",
    "        return string\n",
    "        \n",
    "    def hamiltonian(self):\n",
    "        ham = None\n",
    "        for gate in self.gates:\n",
    "            print(\"hello\")\n",
    "            if ham == None:\n",
    "                ham = gate.hamiltonian(self.n)\n",
    "                print(ham)\n",
    "            else:\n",
    "                ham = np.dot(gate.hamiltonian(self.n) * ham)\n",
    "        return ham\n",
    "    \n",
    "    \n",
    "    def printWires(self):\n",
    "        for wire in self.wires:\n",
    "            print(wire)\n",
    "        \n",
    "class Wire:\n",
    "    def __init__(self,k):\n",
    "        self.k = k\n",
    "        self.gates = []\n",
    "    \n",
    "    def addGate(self,g):\n",
    "        self.gates.append(g)\n",
    "    \n",
    "    def removeLastGate(self):\n",
    "        return self.gates.pop()\n",
    "    \n",
    "    def __str__(self):\n",
    "        string = f\"[{self.k}]:\"\n",
    "        for gate in self.gates:\n",
    "            string += str(gate)\n",
    "        return string\n",
    "\n",
    "class Gate:\n",
    "    #assumes if bits = (0,1,2), order is kron(b2,b1,b0).  This follows from c01 gate having control\n",
    "    #on 0 and target on 1 by convention\n",
    "    gatecount = 0\n",
    "\n",
    "    def __init__(self,matrix,bits):\n",
    "        assert(matrix.shape == (2**len(bits),2**len(bits)))\n",
    "        self.matrix = matrix\n",
    "        self.bits = bits\n",
    "        self.id = Gate.gatecount\n",
    "        Gate.gatecount += 1\n",
    "        \n",
    "    def __str__(self):\n",
    "        return f\"-g{self.id}-\"\n",
    "    \n",
    "    def hamiltonian(self,n):\n",
    "        #first construct hamiltonian operating on first len(bits) qubits, then swap\n",
    "        ham = self.matrix\n",
    "        for i in range(1 - len(self.bits)):\n",
    "            ham = np.kron([[1,0],[0,1]],ham)\n",
    "        return ham\n",
    "    def _swapcircuit(self,n):\n",
    "        for i in range(len(bits)):\n",
    "            pass\n",
    "            \n",
    "        \n",
    "            \n",
    "\n"
   ]
  },
  {
   "cell_type": "code",
   "execution_count": 365,
   "metadata": {},
   "outputs": [],
   "source": [
    "circ = Circuit(2)"
   ]
  },
  {
   "cell_type": "code",
   "execution_count": 366,
   "metadata": {},
   "outputs": [],
   "source": [
    "C01 = Gate(np.array([[1,0,0,0],[0,1,0,0],[0,0,0,1],[0,0,1,0]]),(0,1))"
   ]
  },
  {
   "cell_type": "code",
   "execution_count": 367,
   "metadata": {},
   "outputs": [
    {
     "data": {
      "text/plain": [
       "array([[1, 0, 0, 0],\n",
       "       [0, 1, 0, 0],\n",
       "       [0, 0, 0, 1],\n",
       "       [0, 0, 1, 0]])"
      ]
     },
     "execution_count": 367,
     "metadata": {},
     "output_type": "execute_result"
    }
   ],
   "source": [
    "C01.matrix"
   ]
  },
  {
   "cell_type": "code",
   "execution_count": 368,
   "metadata": {},
   "outputs": [],
   "source": [
    "circ.addGate(C01)"
   ]
  },
  {
   "cell_type": "code",
   "execution_count": 369,
   "metadata": {},
   "outputs": [
    {
     "name": "stdout",
     "output_type": "stream",
     "text": [
      "-g0-\n"
     ]
    }
   ],
   "source": [
    "print(str(circ))"
   ]
  },
  {
   "cell_type": "code",
   "execution_count": 370,
   "metadata": {},
   "outputs": [
    {
     "data": {
      "text/plain": [
       "<__main__.Wire at 0x7e397b4bb350>"
      ]
     },
     "execution_count": 370,
     "metadata": {},
     "output_type": "execute_result"
    }
   ],
   "source": [
    "circ.wires[1]"
   ]
  },
  {
   "cell_type": "code",
   "execution_count": 371,
   "metadata": {},
   "outputs": [
    {
     "data": {
      "text/plain": [
       "'[0]:-g0-'"
      ]
     },
     "execution_count": 371,
     "metadata": {},
     "output_type": "execute_result"
    }
   ],
   "source": [
    "str(circ.wires[0])"
   ]
  },
  {
   "cell_type": "code",
   "execution_count": 372,
   "metadata": {},
   "outputs": [
    {
     "name": "stdout",
     "output_type": "stream",
     "text": [
      "[0]:-g0-\n",
      "[1]:-g0-\n"
     ]
    }
   ],
   "source": [
    "circ.printWires()"
   ]
  },
  {
   "cell_type": "code",
   "execution_count": 373,
   "metadata": {},
   "outputs": [
    {
     "data": {
      "text/plain": [
       "array([1, 0, 0, 0])"
      ]
     },
     "execution_count": 373,
     "metadata": {},
     "output_type": "execute_result"
    }
   ],
   "source": [
    "np.kron([1,0],[1,0])"
   ]
  },
  {
   "cell_type": "code",
   "execution_count": 374,
   "metadata": {},
   "outputs": [
    {
     "data": {
      "text/plain": [
       "array([[1, 0],\n",
       "       [0, 1]])"
      ]
     },
     "execution_count": 374,
     "metadata": {},
     "output_type": "execute_result"
    }
   ],
   "source": [
    "x = np.array([[0,1],[1,0]])\n",
    "np.dot(x,x)"
   ]
  },
  {
   "cell_type": "code",
   "execution_count": 375,
   "metadata": {},
   "outputs": [],
   "source": [
    "def test_swap_alg(targs,n):\n",
    "    targs = np.array(targs)\n",
    "    tmpls = [i for i in range(n)]\n",
    "    end = np.setdiff1d(tmpls,targs)\n",
    "    ls = np.concatenate((targs,end))\n",
    "    return ls"
   ]
  },
  {
   "cell_type": "code",
   "execution_count": 376,
   "metadata": {},
   "outputs": [
    {
     "name": "stdout",
     "output_type": "stream",
     "text": [
      "[3 1 0 2 4]\n"
     ]
    }
   ],
   "source": [
    "print(test_swap_alg([3,1], 5))"
   ]
  },
  {
   "cell_type": "code",
   "execution_count": 377,
   "metadata": {},
   "outputs": [
    {
     "data": {
      "text/plain": [
       "0"
      ]
     },
     "execution_count": 377,
     "metadata": {},
     "output_type": "execute_result"
    }
   ],
   "source": [
    "targs = [1, 3,4]\n",
    "ls = [i for i in range(10)]\n",
    "\n",
    "ls[targs in ls]"
   ]
  },
  {
   "cell_type": "code",
   "execution_count": 378,
   "metadata": {},
   "outputs": [
    {
     "name": "stdout",
     "output_type": "stream",
     "text": [
      "hello\n",
      "[[1 0 0 0]\n",
      " [0 1 0 0]\n",
      " [0 0 0 1]\n",
      " [0 0 1 0]]\n",
      "[[1 0 0 0]\n",
      " [0 1 0 0]\n",
      " [0 0 0 1]\n",
      " [0 0 1 0]]\n"
     ]
    }
   ],
   "source": [
    "print(circ.hamiltonian())"
   ]
  },
  {
   "cell_type": "code",
   "execution_count": null,
   "metadata": {},
   "outputs": [],
   "source": []
  },
  {
   "cell_type": "code",
   "execution_count": null,
   "metadata": {},
   "outputs": [],
   "source": []
  },
  {
   "cell_type": "code",
   "execution_count": null,
   "metadata": {},
   "outputs": [],
   "source": []
  }
 ],
 "metadata": {
  "kernelspec": {
   "display_name": "Python 3",
   "language": "python",
   "name": "python3"
  },
  "language_info": {
   "codemirror_mode": {
    "name": "ipython",
    "version": 3
   },
   "file_extension": ".py",
   "mimetype": "text/x-python",
   "name": "python",
   "nbconvert_exporter": "python",
   "pygments_lexer": "ipython3",
   "version": "3.7.4"
  }
 },
 "nbformat": 4,
 "nbformat_minor": 4
}
